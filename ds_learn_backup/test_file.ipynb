{
 "cells": [
  {
   "cell_type": "code",
   "execution_count": 9,
   "id": "68b51de1",
   "metadata": {},
   "outputs": [
    {
     "name": "stdout",
     "output_type": "stream",
     "text": [
      "['  user_id', 'total play', 'Artist', 'genre', 'track']\n",
      "['user_id', 'total_play', 'artist', 'genre', 'track']\n",
      "  user_id user_id\n",
      "total play total_play\n",
      "Artist artist\n",
      "genre genre\n",
      "track track\n"
     ]
    }
   ],
   "source": [
    "columns_replaced = ['  user_id', 'total play', 'Artist', 'genre', 'track']\n",
    "columns_to_replace = ['user_id', 'total_play', 'artist', 'genre', 'track']\n",
    "print(columns_replaced)\n",
    "print(columns_to_replace)\n",
    "\n",
    "for i in range(len(columns_to_replace)):\n",
    "    print(columns_replaced[i], columns_to_replace[i])\n",
    "\n"
   ]
  },
  {
   "cell_type": "code",
   "execution_count": 1,
   "id": "be92a052",
   "metadata": {},
   "outputs": [
    {
     "name": "stdout",
     "output_type": "stream",
     "text": [
      "   АбракаДАбра   \n",
      "абракадабра\n"
     ]
    }
   ],
   "source": [
    "test = '   АбракаДАбра   '\n",
    "new_test = test.lower().strip()\n",
    "print(test)\n",
    "print(new_test)"
   ]
  },
  {
   "cell_type": "code",
   "execution_count": 23,
   "id": "a0f45062",
   "metadata": {},
   "outputs": [
    {
     "name": "stdout",
     "output_type": "stream",
     "text": [
      "{'Слово': ['Славо', 'Слуво', 'Сливо'], 'Огонь': ['Кинь', 'Конь']}\n",
      "\n",
      "Славо = Слово\n",
      "Слуво = Слово\n",
      "Сливо = Слово\n",
      "Кинь = Огонь\n",
      "Конь = Огонь\n"
     ]
    }
   ],
   "source": [
    "test_dict = {\"Слово\": ['Славо', \"Слуво\", \"Сливо\"], \"Огонь\": [\"Кинь\", \"Конь\"]}\n",
    "print(test_dict)\n",
    "print()\n",
    "\n",
    "for item in test_dict.items():\n",
    "    for val in item[1]:\n",
    "        print(val, \"=\", item[0])"
   ]
  }
 ],
 "metadata": {
  "kernelspec": {
   "display_name": "Python 3 (ipykernel)",
   "language": "python",
   "name": "python3"
  },
  "language_info": {
   "codemirror_mode": {
    "name": "ipython",
    "version": 3
   },
   "file_extension": ".py",
   "mimetype": "text/x-python",
   "name": "python",
   "nbconvert_exporter": "python",
   "pygments_lexer": "ipython3",
   "version": "3.9.7"
  }
 },
 "nbformat": 4,
 "nbformat_minor": 5
}
1
