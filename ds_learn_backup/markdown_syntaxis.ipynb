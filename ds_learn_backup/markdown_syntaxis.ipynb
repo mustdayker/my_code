{
 "cells": [
  {
   "cell_type": "markdown",
   "metadata": {},
   "source": [
    "<a id='intro'></a>\n",
    "<a id='head'></a>\n",
    "Здесь содержится якорь для ссылки\n",
    "\n",
    "[Вниз](#down)"
   ]
  },
  {
   "cell_type": "markdown",
   "metadata": {},
   "source": [
    "<div class=\"alert alert-danger\">\n",
    "    <b>Красный блок ❌:</b> Например, вот так. \n",
    "</div>\n",
    "\n",
    "<div class=\"alert alert-warning\">\n",
    "    <b>Желтый блок ⚠️:</b> Например, вот так.\n",
    "</div>\n",
    "\n",
    "<div class=\"alert alert-success\">\n",
    "    <b>Зеленый блок ✔️:</b> Например, вот так.\n",
    "</div> \n",
    "\n",
    "<div class=\"alert alert-info\">\n",
    "    <b>Синий блок:</b> Например, вот так.\n",
    "</div>"
   ]
  },
  {
   "cell_type": "markdown",
   "metadata": {},
   "source": [
    "<div style=\"border:solid orange 2px; padding: 20px\">\n",
    "Рамка. Тут может быть любой текст, а так же:\n",
    "<div class=\"alert alert-success\">\n",
    "<b>Блоки текста</b>\n",
    "    \n",
    "    print('А так же куски кода в них')\n",
    "    \n",
    "</div>"
   ]
  },
  {
   "cell_type": "markdown",
   "metadata": {},
   "source": [
    "<div class=\"alert alert-info\">\n",
    "    <h3 style=\"color:black; margin-bottom:20px\">Заголовок внтри цветного блока</h3>\n",
    "</div>"
   ]
  },
  {
   "cell_type": "markdown",
   "metadata": {},
   "source": [
    "<h1><p style=\"text-align: center;\">Пишем в центре</p></h>"
   ]
  },
  {
   "cell_type": "markdown",
   "metadata": {},
   "source": [
    "# Заголовок\n",
    "## Подзаголовок\n",
    "### Подподзаголовок\n",
    "#### Подподподзаголовок"
   ]
  },
  {
   "cell_type": "markdown",
   "metadata": {},
   "source": [
    "Тест - **Тест** - *Тест* - ***Тест***"
   ]
  },
  {
   "cell_type": "markdown",
   "metadata": {},
   "source": [
    "Выделение **`Важных данных`** в тексте. Так пожно выледять переменные `counter_list` или что-то подобное"
   ]
  },
  {
   "cell_type": "markdown",
   "metadata": {},
   "source": [
    "Перенос строки\\\n",
    "Вторая строка"
   ]
  },
  {
   "cell_type": "markdown",
   "metadata": {},
   "source": [
    "[Текст ссылки](https://ya.ru)"
   ]
  },
  {
   "cell_type": "markdown",
   "metadata": {},
   "source": [
    "www.ya.ru"
   ]
  },
  {
   "cell_type": "markdown",
   "metadata": {},
   "source": [
    "> Блок цитирования "
   ]
  },
  {
   "cell_type": "markdown",
   "metadata": {},
   "source": [
    "Еще можно выделять код внутри текста:\n",
    "\n",
    "    делается это вот так. Теперь операторы print(), int() и т.д. написаны привычным шрифтом\n",
    "    чтобы это сделать надо поставить 4 пробела"
   ]
  },
  {
   "cell_type": "markdown",
   "metadata": {},
   "source": [
    "А еще так:\n",
    "\n",
    "```python\n",
    "def function():\n",
    "    print('Оладушки')\n",
    "    return oladushki\n",
    "```\n",
    "\n",
    "Или так:\n",
    "\n",
    "<code>def function():\n",
    "    print('Оладушки')\n",
    "    return oladushki</code>\n"
   ]
  },
  {
   "cell_type": "markdown",
   "metadata": {},
   "source": [
    "- [ ] Чекбокс пустой\n",
    "- [x] Чекбокс заполненный"
   ]
  },
  {
   "cell_type": "markdown",
   "metadata": {},
   "source": [
    "1. Первый элемент списка\n",
    "1. Второй элемент списка\n",
    "   1. вложенный первый элемент\n",
    "   1. вложенный второй элемент\n",
    "1. Третий элемент списка\n",
    "\n",
    "- Первый элемент списка\n",
    "- Второй элемент списка\n",
    "  - вложенный первый элемент\n",
    "  - вложенный второй элемент\n",
    "- Третий элемент списка"
   ]
  },
  {
   "cell_type": "markdown",
   "metadata": {},
   "source": [
    "Это <sub>Надстрочный текст</sub>\n",
    "\n",
    "А это <sup>Подстрочный текст</sup>"
   ]
  },
  {
   "cell_type": "markdown",
   "metadata": {},
   "source": [
    "|Заголовок 1|Заголовок 2|Заголовок 3|\n",
    "|----------|-----------|------------|\n",
    "|Ячейка 1     |Ячейка 2       |Ячейка 3        |\n",
    "|Ячейка 4|Ячейка 5   |Ячейка 6|"
   ]
  },
  {
   "cell_type": "markdown",
   "metadata": {},
   "source": [
    "$$с = \\sqrt{a^2 + b^2}$$"
   ]
  },
  {
   "cell_type": "markdown",
   "metadata": {},
   "source": [
    "$$S \\cdot  \\left( 1 + {p \\over 100 \\cdot f} \\right) ^{f \\cdot 5} - S $$"
   ]
  },
  {
   "cell_type": "markdown",
   "metadata": {},
   "source": [
    "$$MAE = {1 \\over N} \\cdot \\sum_{i=1}^{N} \\mid y_{i} - \\widehat{y_{i}} \\mid$$"
   ]
  },
  {
   "cell_type": "markdown",
   "metadata": {},
   "source": [
    "$$MSE = {1 \\over N} \\cdot \\sum_{i=1}^{N} \\left(\\widehat{y_{i}} - y_{i}\\right)^2$$"
   ]
  },
  {
   "cell_type": "markdown",
   "metadata": {},
   "source": [
    "$$Recovery = {C \\cdot (F - T) \\over F \\cdot (C - T)} \\cdot 100\\% $$"
   ]
  },
  {
   "cell_type": "markdown",
   "metadata": {},
   "source": [
    "$$sMAPE = {1 \\over N} \\cdot \\sum_{i=1}^{N}{\\mid y_{i} - \\widehat{y_{i}} \\mid \\over \\left( \\mid y_{i} \\mid + \\mid \\widehat{y_{i}} \\mid \\right) \\div 2} \\cdot 100 \\%$$"
   ]
  },
  {
   "cell_type": "markdown",
   "metadata": {},
   "source": [
    "$$sMAPE_{conclusion} = \\left( 25\\% \\cdot sMAPE_{roughet} \\right) + \\left( 75\\% \\cdot sMAPE_{final} \\right)$$"
   ]
  },
  {
   "cell_type": "markdown",
   "metadata": {},
   "source": [
    "<font color=Blue size=5>\n",
    "\n",
    "Я синий и большой\n",
    "    \n",
    "</font>\n",
    "<font color=Red size=2>\n",
    "    \n",
    "Я красный и маленький\n",
    "    \n",
    "</font>"
   ]
  },
  {
   "cell_type": "markdown",
   "metadata": {},
   "source": [
    "<font color=orange>\n",
    "    \n",
    "<b>Оранжевый</b>\n",
    "\n",
    "</font> \n",
    "<font color=#008000>\n",
    "    \n",
    "<b>Зеленый</b>\n",
    "\n",
    "</font>"
   ]
  },
  {
   "cell_type": "markdown",
   "metadata": {},
   "source": [
    "---    "
   ]
  },
  {
   "cell_type": "markdown",
   "metadata": {},
   "source": [
    "---"
   ]
  },
  {
   "cell_type": "markdown",
   "metadata": {},
   "source": [
    "![](https://commonmark.org/help/images/favicon.png)"
   ]
  },
  {
   "cell_type": "markdown",
   "metadata": {},
   "source": [
    "![](datasets/001.jpg)"
   ]
  },
  {
   "cell_type": "markdown",
   "metadata": {},
   "source": [
    "<a id='down'></a>\n",
    "[Ссылка на якорь](#intro)"
   ]
  },
  {
   "cell_type": "markdown",
   "metadata": {},
   "source": [
    "# [▴](#head)"
   ]
  }
 ],
 "metadata": {
  "kernelspec": {
   "display_name": "Python 3 (ipykernel)",
   "language": "python",
   "name": "python3"
  },
  "language_info": {
   "codemirror_mode": {
    "name": "ipython",
    "version": 3
   },
   "file_extension": ".py",
   "mimetype": "text/x-python",
   "name": "python",
   "nbconvert_exporter": "python",
   "pygments_lexer": "ipython3",
   "version": "3.9.12"
  }
 },
 "nbformat": 4,
 "nbformat_minor": 4
}
