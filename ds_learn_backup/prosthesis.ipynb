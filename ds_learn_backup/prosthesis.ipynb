{
 "cells": [
  {
   "cell_type": "markdown",
   "id": "6547c8a2",
   "metadata": {},
   "source": [
    "<a id='head'></a>"
   ]
  },
  {
   "cell_type": "markdown",
   "id": "fb8c5c9e",
   "metadata": {},
   "source": [
    "\n",
    "### [Строки](#string)\n",
    "- [Массовый вызов методов строк для переименования заголовков DF](#string_01)\n",
    "- [Функция, приводящая заголовки DF в верблюжьем регистре к змеиному](#string_02)\n",
    "\n",
    "### [Циклы](#cycle)\n",
    "- [Обратный цикл перебора словаря](#cycle_01)\n",
    "- [Замена дубликатов в DF (простая)](#cycle_02)\n",
    "- [Замена дубликатов в DF (улучшенная)](#cycle_03)\n",
    "- [Перебор комбинации значений из двух списков](#cycle_04)\n",
    "- [Пример цикла While](#cycle_05)\n",
    "\n",
    "### [Условия](#if_else)\n",
    "- [try... except](#if_else_01)\n",
    "- [Короткая запись условия](#if_else_02)\n",
    "\n",
    "### [Функции](#function)\n",
    "- [Перебор вхождения строки в элемент из списка значений](#function_01)\n",
    "- [Перебор вхождения строки в элемент из списка значений kormeg version](#function_01.1)\n",
    "- [Поиск значений усов коробки с усами](#function_02)\n",
    "\n",
    "### [Lambda функции](#lambda_function)\n",
    "- [Пример](#lambda_function_01)\n",
    "\n",
    "### [Генераторы списков](#list_comprehension)\n",
    "\n",
    "### [Распаковка списков](#unpack_list)\n",
    "\n",
    "### [Особенности Импорта и Экспорта файлов](#import_export)\n",
    "\n",
    "- [Экспорт CSV/Excel c кириллицей](#import_export_01)\n",
    "\n",
    "### OS\n",
    "\n",
    "### [Диаграммы и Графики](#plt)\n",
    "- [Heatmap для матрицы корреляции](#plt_01)\n",
    "- [Seaborn Pairplot](#plt_02)\n"
   ]
  },
  {
   "cell_type": "markdown",
   "id": "bb8cd008",
   "metadata": {},
   "source": [
    "<a id='string'></a>\n",
    "<div style=\"border:solid orange 2px; padding: 40px\">\n",
    "    <h1><p style=\"text-align: center;\">Строки</p></h1>\n",
    "</div>"
   ]
  },
  {
   "cell_type": "markdown",
   "id": "f973d3ee",
   "metadata": {},
   "source": [
    "<a id='string_01'></a>\n",
    "<div class=\"alert alert-info\">\n",
    "<h3> Массовый вызов методов строк для переименования заголовков DF</h3>\n",
    "</div>"
   ]
  },
  {
   "cell_type": "code",
   "execution_count": 41,
   "id": "5d4caec3",
   "metadata": {
    "scrolled": true
   },
   "outputs": [
    {
     "name": "stdout",
     "output_type": "stream",
     "text": [
      "Index(['  userID', 'Track', 'artist', 'genre', '  City  ', 'time', 'Day'], dtype='object')\n",
      "Index(['userid', 'track', 'artist', 'genre', 'city', 'time', 'day'], dtype='object')\n"
     ]
    }
   ],
   "source": [
    "import pandas as pd\n",
    "try:\n",
    "    df = pd.read_csv('datasets/yandex_music_project.csv')\n",
    "except:\n",
    "    df = pd.read_csv(\"D:/practicum/datasets_for_projects/yandex_music_project.csv\")\n",
    "    \n",
    "print(df.columns)\n",
    "\n",
    "# __________Начало___________\n",
    "df.columns = df.columns.str.strip().str.lower().str.replace('с_значение_1', 'на_значение_2')\n",
    "# __________Конец___________\n",
    "\n",
    "print(df.columns)"
   ]
  },
  {
   "cell_type": "markdown",
   "id": "feb00438",
   "metadata": {},
   "source": [
    "# [▴](#head)"
   ]
  },
  {
   "cell_type": "markdown",
   "id": "1c3486f0",
   "metadata": {},
   "source": [
    "<a id='string_02'></a>\n",
    "<div class=\"alert alert-info\">\n",
    "<h3> Функция, приводящая заголовки DF в верблюжьем регистре к змеиному</h3>\n",
    "</div>"
   ]
  },
  {
   "cell_type": "code",
   "execution_count": 42,
   "id": "86cf7a4a",
   "metadata": {},
   "outputs": [
    {
     "data": {
      "text/plain": [
       "Index(['RowNumber', 'CustomerId', 'Surname', 'CreditScore', 'Geography',\n",
       "       'Gender', 'Age', 'Tenure', 'Balance', 'NumOfProducts', 'HasCrCard',\n",
       "       'IsActiveMember', 'EstimatedSalary', 'Exited'],\n",
       "      dtype='object')"
      ]
     },
     "metadata": {},
     "output_type": "display_data"
    },
    {
     "data": {
      "text/plain": [
       "Index(['row_number', 'customer_id', 'surname', 'credit_score', 'geography',\n",
       "       'gender', 'age', 'tenure', 'balance', 'num_of_products', 'has_cr_card',\n",
       "       'is_active_member', 'estimated_salary', 'exited'],\n",
       "      dtype='object')"
      ]
     },
     "execution_count": 42,
     "metadata": {},
     "output_type": "execute_result"
    }
   ],
   "source": [
    "import pandas as pd\n",
    "try:\n",
    "    df = pd.read_csv(\"D:/practicum/datasets_for_projects/Churn.csv\")\n",
    "except:\n",
    "    df = pd.read_csv(\"/datasets/Churn.csv\")\n",
    "\n",
    "display(df.columns)\n",
    "def camel_to_snake(df=df):   \n",
    "    columns = []\n",
    "    for name in df.columns:\n",
    "        new_name = \"\"\n",
    "        for i in name:\n",
    "            if i.isupper():\n",
    "                new_name += \"_\" + i.lower()\n",
    "            else:\n",
    "                new_name += i\n",
    "        new_name = new_name[1:]    \n",
    "        columns.append(new_name)    \n",
    "    df.columns = columns\n",
    "    return df\n",
    "\n",
    "df = camel_to_snake()\n",
    "df.columns"
   ]
  },
  {
   "cell_type": "markdown",
   "id": "fafe29b3",
   "metadata": {},
   "source": [
    "# [▴](#head)"
   ]
  },
  {
   "cell_type": "markdown",
   "id": "ef43143f",
   "metadata": {},
   "source": [
    "<a id='cycle'></a>\n",
    "<div style=\"border:solid orange 2px; padding: 40px\">\n",
    "    <h1><p style=\"text-align: center;\">Циклы</p></h1>\n",
    "</div>"
   ]
  },
  {
   "cell_type": "markdown",
   "id": "4b5645a4",
   "metadata": {},
   "source": [
    "<a id='cycle_01'></a>\n",
    "<div class=\"alert alert-info\">\n",
    "    <h3>Обратный цикл перебора словаря</h3>\n",
    "</div>"
   ]
  },
  {
   "cell_type": "code",
   "execution_count": 43,
   "id": "853144d9",
   "metadata": {
    "scrolled": true
   },
   "outputs": [
    {
     "name": "stdout",
     "output_type": "stream",
     "text": [
      "Славо -> Слово\n",
      "Слуво -> Слово\n",
      "Сливо -> Слово\n",
      "Кинь -> Огонь\n",
      "Конь -> Огонь\n"
     ]
    }
   ],
   "source": [
    "test_dict = {\"Слово\": ['Славо', \"Слуво\", \"Сливо\"], \"Огонь\": [\"Кинь\", \"Конь\"]}\n",
    "for item in test_dict.items():\n",
    "    for val in item[1]:\n",
    "        print(val, \"->\", item[0])"
   ]
  },
  {
   "cell_type": "markdown",
   "id": "e2b43cf1",
   "metadata": {},
   "source": [
    "# [▴](#head)"
   ]
  },
  {
   "cell_type": "markdown",
   "id": "5d040d51",
   "metadata": {},
   "source": [
    "<a id='cycle_02'></a>\n",
    "<div class=\"alert alert-info\">\n",
    "    <h3>Замена дубликатов в DF (простая)</h3>\n",
    "</div>"
   ]
  },
  {
   "cell_type": "code",
   "execution_count": 44,
   "id": "49db305d",
   "metadata": {},
   "outputs": [
    {
     "name": "stdout",
     "output_type": "stream",
     "text": [
      "['hip', 'hip-hop', 'hiphop', 'hop', 'triphop']\n",
      "['hiphop', 'triphop']\n"
     ]
    }
   ],
   "source": [
    "import pandas as pd\n",
    "try:\n",
    "    df = pd.read_csv('datasets/yandex_music_project.csv')\n",
    "except:\n",
    "    df = pd.read_csv(\"D:/practicum/datasets_for_projects/yandex_music_project.csv\")\n",
    "    \n",
    "df.fillna('Нету', inplace=True)\n",
    "print(list(filter(lambda x: 'hip' in x or 'hop' in x, df['genre'].sort_values().unique())))\n",
    "\n",
    "# __________Начало___________\n",
    "def replace_wrong_genres(wrong_genres, correct_genre):\n",
    "    for wrong_genre in wrong_genres:\n",
    "        df['genre'] = df['genre'].replace(wrong_genre, correct_genre)\n",
    "\n",
    "replace_wrong_genres(['hip-hop', 'hip', 'hop'], 'hiphop')\n",
    "# __________Конец___________\n",
    "\n",
    "print(list(filter(lambda x: 'hip' in x or 'hop' in x, df['genre'].sort_values().unique())))"
   ]
  },
  {
   "cell_type": "markdown",
   "id": "ca68bc6e",
   "metadata": {},
   "source": [
    "# [▴](#head)"
   ]
  },
  {
   "cell_type": "markdown",
   "id": "141b9bc5",
   "metadata": {},
   "source": [
    "<a id='cycle_03'></a>\n",
    "<div class=\"alert alert-info\">\n",
    "    <h3>Замена дубликатов в DF (улучшеная)</h3>\n",
    "</div>"
   ]
  },
  {
   "cell_type": "code",
   "execution_count": 45,
   "id": "27d90691",
   "metadata": {},
   "outputs": [
    {
     "name": "stdout",
     "output_type": "stream",
     "text": [
      "['electronic', 'hip', 'hip-hop', 'hiphop', 'hop', 'loungeelectronic', 'popelectronic', 'triphop', 'электроника']\n",
      "['electronic', 'hiphop', 'loungeelectronic', 'popelectronic', 'triphop']\n"
     ]
    }
   ],
   "source": [
    "import pandas as pd\n",
    "try:\n",
    "    df = pd.read_csv('datasets/yandex_music_project.csv')\n",
    "except:\n",
    "    df = pd.read_csv(\"D:/practicum/datasets_for_projects/yandex_music_project.csv\")\n",
    "    \n",
    "df.fillna('Нету', inplace=True)\n",
    "print(list(filter(lambda x: 'hip' in x or 'hop' in x or 'эл' in x or 'electronic' in x, df['genre'].sort_values().unique())))\n",
    "\n",
    "# __________Начало___________\n",
    "def replace_wrong_genres_upgrade(genres_duplicates): # принимаем на вход словарь с данными о дубликатах\n",
    "    for item in genres_duplicates.items(): # обходим каждый элемент словаря, распаковывая их в кортеж\n",
    "        for val in item[1]: # в кортеже создаем цикл на обход списка (по сути это значение ключа словаря со списком дубликатов)\n",
    "            df['genre'] = df['genre'].replace(val, item[0]) # заменяем каждый дубликат на верное значение (ключ словаря)\n",
    "\n",
    "duplicates_dict = {'hiphop': ['hip-hop', 'hip', 'hop'], 'electronic': ['электроника']} # наборов может быть сколько угодно\n",
    "replace_wrong_genres_upgrade(duplicates_dict)\n",
    "# __________Конец___________\n",
    "\n",
    "print(list(filter(lambda x: 'hip' in x or 'hop' in x or 'эл' in x or 'electronic' in x, df['genre'].sort_values().unique())))"
   ]
  },
  {
   "cell_type": "markdown",
   "id": "78ebb32a",
   "metadata": {},
   "source": [
    "# [▴](#head)"
   ]
  },
  {
   "cell_type": "markdown",
   "id": "233667ad",
   "metadata": {},
   "source": [
    "<a id='cycle_04'></a>\n",
    "<div class=\"alert alert-info\">\n",
    "    <h3>Перебор комбинации значений из двух списков</h3>\n",
    "</div>"
   ]
  },
  {
   "cell_type": "code",
   "execution_count": 46,
   "id": "c61fc630",
   "metadata": {},
   "outputs": [
    {
     "name": "stdout",
     "output_type": "stream",
     "text": [
      "[('A', 'c'), ('A', 'd'), ('A', 'e'), ('B', 'c'), ('B', 'd'), ('B', 'e')]\n"
     ]
    }
   ],
   "source": [
    "import itertools\n",
    "first_list = ['A', 'B']\n",
    "second_list = ['c', 'd', 'e']\n",
    "print(list(itertools.product(first_list, second_list)))"
   ]
  },
  {
   "cell_type": "markdown",
   "id": "fc2065ee",
   "metadata": {},
   "source": [
    "# [▴](#head)"
   ]
  },
  {
   "cell_type": "code",
   "execution_count": 47,
   "id": "3c347c83",
   "metadata": {
    "scrolled": true
   },
   "outputs": [
    {
     "name": "stdout",
     "output_type": "stream",
     "text": [
      "[['A', 'c'], ['A', 'd'], ['A', 'e'], ['B', 'c'], ['B', 'd'], ['B', 'e']]\n"
     ]
    }
   ],
   "source": [
    "first_list = ['A', 'B']\n",
    "second_list = ['c', 'd', 'e']\n",
    "new_list = []\n",
    "for i in first_list:\n",
    "    for j in second_list:\n",
    "        new_list.append([i, j])\n",
    "print(new_list)"
   ]
  },
  {
   "cell_type": "markdown",
   "id": "8777708b",
   "metadata": {},
   "source": [
    "# [▴](#head)"
   ]
  },
  {
   "cell_type": "markdown",
   "id": "b7feca83",
   "metadata": {},
   "source": [
    "<a id='cycle_05'></a>\n",
    "<div class=\"alert alert-info\">\n",
    "    <h3>Пример цикла While</h3>\n",
    "</div>"
   ]
  },
  {
   "cell_type": "code",
   "execution_count": 48,
   "id": "c5d7fa18",
   "metadata": {},
   "outputs": [],
   "source": [
    "import random\n",
    "\n",
    "total_weight = 0\n",
    "capacity = 300\n",
    "\n",
    "while total_weight < capacity: # пока суммарный вес меньше грузоподъёмности лифта\n",
    "    person_weight = random.randint(30, 120) # генерируется случайное целое число от 30 до 120\n",
    "    total_weight += person_weight # сгенерированный вес добавляется к суммарному весу"
   ]
  },
  {
   "cell_type": "markdown",
   "id": "9038fda4",
   "metadata": {},
   "source": [
    "# [▴](#head)"
   ]
  },
  {
   "cell_type": "code",
   "execution_count": null,
   "id": "9c789a74",
   "metadata": {},
   "outputs": [],
   "source": []
  },
  {
   "cell_type": "code",
   "execution_count": 49,
   "id": "6fd5965d",
   "metadata": {},
   "outputs": [
    {
     "name": "stdout",
     "output_type": "stream",
     "text": [
      "{2: 1, 3: 2, 4: 3, 5: 4, 6: 5, 7: 6, 8: 5, 9: 4, 10: 3, 11: 2, 12: 1}\n",
      "{2: 0.027777777777777776, 3: 0.05555555555555555, 4: 0.08333333333333333, 5: 0.1111111111111111, 6: 0.1388888888888889, 7: 0.16666666666666666, 8: 0.1388888888888889, 9: 0.1111111111111111, 10: 0.08333333333333333, 11: 0.05555555555555555, 12: 0.027777777777777776}\n"
     ]
    }
   ],
   "source": [
    "import numpy as np\n",
    "\n",
    "spots = np.array([[2,3,4,5,6,7], # имя переменной spots по-английски значит «пятна»\n",
    "    [3,4,5,6,7,8], \n",
    "    [4,5,6,7,8,9], \n",
    "    [5,6,7,8,9,10], \n",
    "    [6,7,8,9,10,11],\n",
    "    [7,8,9,10,11,12]])\n",
    "\n",
    "spot_counts = {}\n",
    "\n",
    "for i in range(0, 6):\n",
    "        for j in range(0, 6):\n",
    "                if spots[i][j] not in spot_counts.keys():\n",
    "                        spot_counts[spots[i][j]] = 1\n",
    "                else:\n",
    "                        spot_counts[spots[i][j]] += 1\n",
    "\n",
    "print(spot_counts)\n",
    "\n",
    "spot_probs={k:spot_counts[k]/36 for k in spot_counts} #dictionary comprehension\n",
    "print(spot_probs)"
   ]
  },
  {
   "cell_type": "markdown",
   "id": "f6ce06c6",
   "metadata": {},
   "source": [
    "# [▴](#head)"
   ]
  },
  {
   "cell_type": "code",
   "execution_count": null,
   "id": "6c44eb7c",
   "metadata": {},
   "outputs": [],
   "source": []
  },
  {
   "cell_type": "code",
   "execution_count": null,
   "id": "d6bbb8ec",
   "metadata": {},
   "outputs": [],
   "source": []
  },
  {
   "cell_type": "code",
   "execution_count": null,
   "id": "2a76ca07",
   "metadata": {},
   "outputs": [],
   "source": []
  },
  {
   "cell_type": "markdown",
   "id": "cb542177",
   "metadata": {},
   "source": [
    "<a id='if_else'></a>\n",
    "<div style=\"border:solid orange 2px; padding: 40px\">\n",
    "    <h1><p style=\"text-align: center;\">Условия</p></h1>\n",
    "</div>"
   ]
  },
  {
   "cell_type": "markdown",
   "id": "12c6bab8",
   "metadata": {},
   "source": [
    "<a id='if_else_01'></a>\n",
    "<div class=\"alert alert-info\">\n",
    "    <h3>try ... except</h3>\n",
    "</div>"
   ]
  },
  {
   "cell_type": "code",
   "execution_count": 50,
   "id": "ac2ef340",
   "metadata": {},
   "outputs": [
    {
     "name": "stdout",
     "output_type": "stream",
     "text": [
      "Проверьте значения параметров a и b\n",
      "Кстати, хорошего дня\n"
     ]
    }
   ],
   "source": [
    "try:\n",
    "    print(1 / 0)\n",
    "except:\n",
    "    print('Проверьте значения параметров a и b')\n",
    "print('Кстати, хорошего дня') "
   ]
  },
  {
   "cell_type": "markdown",
   "id": "fb60b5d0",
   "metadata": {},
   "source": [
    "# [▴](#head)"
   ]
  },
  {
   "cell_type": "markdown",
   "id": "45f67b55",
   "metadata": {},
   "source": [
    "<a id='if_else_02'></a>\n",
    "<div class=\"alert alert-info\">\n",
    "    <h3>Короткая запись условия</h3>\n",
    "</div>"
   ]
  },
  {
   "cell_type": "code",
   "execution_count": 51,
   "id": "0358c56a",
   "metadata": {},
   "outputs": [
    {
     "name": "stdout",
     "output_type": "stream",
     "text": [
      "Yes\n"
     ]
    }
   ],
   "source": [
    "p = 1\n",
    "x = (\"Yes\" if p == 1 else \"Нет или не уверен\")\n",
    "print(x)"
   ]
  },
  {
   "cell_type": "markdown",
   "id": "9bf1fa99",
   "metadata": {},
   "source": [
    "# [▴](#head)"
   ]
  },
  {
   "cell_type": "markdown",
   "id": "b6c7f2b3",
   "metadata": {},
   "source": [
    "<a id='function'></a>\n",
    "<div style=\"border:solid orange 2px; padding: 40px\">\n",
    "    <h1><p style=\"text-align: center;\">Функции</p></h1>\n",
    "</div>"
   ]
  },
  {
   "cell_type": "markdown",
   "id": "6822cb35",
   "metadata": {},
   "source": [
    "<a id='function_01'></a>\n",
    "<div class=\"alert alert-info\">\n",
    "    <h3>Перебор вхождения строки в элемент из списка значений</h3>\n",
    "</div>"
   ]
  },
  {
   "cell_type": "code",
   "execution_count": 52,
   "id": "77308b00",
   "metadata": {},
   "outputs": [
    {
     "data": {
      "text/plain": [
       "операции с недвижимостью    10840\n",
       "операции с автомобилем       4315\n",
       "получение образования        4022\n",
       "проведение свадьбы           2348\n",
       "Name: purpose_category, dtype: int64"
      ]
     },
     "execution_count": 52,
     "metadata": {},
     "output_type": "execute_result"
    }
   ],
   "source": [
    "import pandas as pd\n",
    "try:\n",
    "    df = pd.read_csv(\"D:/practicum/datasets_for_projects/data.csv\")\n",
    "except:\n",
    "    df = pd.read_csv(\"/datasets/data.csv\")\n",
    "    \n",
    "# создадим 4 списка, для каждой из категорий и впишем туда необходимые корни слов\n",
    "\n",
    "auto_list = ['авто'] # автомобильный\n",
    "education_list = ['образ'] # образование\n",
    "realty_list = ['жиль', 'недв'] # недвижимость\n",
    "wedding_list = ['свадь'] # свадьба\n",
    "\n",
    "# сначала создадим функцию-помощника, которая будет перебирать список корней \n",
    "# и проверять вхождение этого корня в строковое значение\n",
    "\n",
    "def str_in_val_list(str_val, words): # принимаем на вход строковое значение для проверки и список корней\n",
    "    for word in words: # для каждого корня в списке корней\n",
    "        if word in str_val: # если корень входит в строковое значение\n",
    "            return True # возвращаем True\n",
    "    return False # иначе False\n",
    "\n",
    "\n",
    "# теперь создаем основную рабочую функцию\n",
    "\n",
    "def categorise_purpose(cell): # принимием на вход значение ячейки (это наше строковое значение)\n",
    "    if str_in_val_list(cell, auto_list): # вызываем функцию-помощника, которой передаем значение ячейки и список на проверку\n",
    "        return 'операции с автомобилем' # если функция-помощник возвращает нам True, то основная возвращает нужную категорию\n",
    "    elif str_in_val_list(cell, realty_list):\n",
    "        return 'операции с недвижимостью'\n",
    "    elif str_in_val_list(cell, wedding_list):\n",
    "        return 'проведение свадьбы'\n",
    "    elif str_in_val_list(cell, education_list):\n",
    "        return 'получение образования'\n",
    "    else:\n",
    "        return 'без категории' # если все вызовы функций-помощников вернули нам False, то получаем на выходе \"без категорий\"\n",
    "\n",
    "\n",
    "# применим нашу функцию с столбцу \"purpose\".\n",
    "# результат работы функции поместим в новый столбец \"purpose_category\"\n",
    "\n",
    "df['purpose_category'] = df['purpose'].apply(categorise_purpose)\n",
    "df['purpose_category'].value_counts()"
   ]
  },
  {
   "cell_type": "markdown",
   "id": "de3e5875",
   "metadata": {},
   "source": [
    "# [▴](#head)"
   ]
  },
  {
   "cell_type": "markdown",
   "id": "12b00f97",
   "metadata": {},
   "source": [
    "<a id='function_01.1'></a>\n",
    "<div class=\"alert alert-info\">\n",
    "    <h3>Перебор вхождения строки в элемент из списка значений kormeg version</h3>\n",
    "</div>"
   ]
  },
  {
   "cell_type": "code",
   "execution_count": 53,
   "id": "0c64bee6",
   "metadata": {},
   "outputs": [
    {
     "data": {
      "text/plain": [
       "(['приобретение автомобиля',\n",
       "  'на покупку подержанного автомобиля',\n",
       "  'на покупку своего автомобиля',\n",
       "  'автомобили',\n",
       "  'сделка с подержанным автомобилем',\n",
       "  'автомобиль',\n",
       "  'свой автомобиль',\n",
       "  'сделка с автомобилем',\n",
       "  'на покупку автомобиля'],\n",
       " ['покупка жилья',\n",
       "  'операции с жильем',\n",
       "  'покупка жилья для семьи',\n",
       "  'покупка недвижимости',\n",
       "  'покупка коммерческой недвижимости',\n",
       "  'покупка жилой недвижимости',\n",
       "  'строительство собственной недвижимости',\n",
       "  'недвижимость',\n",
       "  'строительство недвижимости',\n",
       "  'операции с коммерческой недвижимостью',\n",
       "  'строительство жилой недвижимости',\n",
       "  'жилье',\n",
       "  'операции со своей недвижимостью',\n",
       "  'покупка своего жилья',\n",
       "  'операции с недвижимостью',\n",
       "  'покупка жилья для сдачи',\n",
       "  'ремонт жилью'],\n",
       " ['сыграть свадьбу', 'на проведение свадьбы', 'свадьба'],\n",
       " ['дополнительное образование',\n",
       "  'образование',\n",
       "  'заняться образованием',\n",
       "  'получение образования',\n",
       "  'получение дополнительного образования',\n",
       "  'получение высшего образования',\n",
       "  'профильное образование',\n",
       "  'высшее образование',\n",
       "  'заняться высшим образованием'],\n",
       " [])"
      ]
     },
     "execution_count": 53,
     "metadata": {},
     "output_type": "execute_result"
    }
   ],
   "source": [
    "import pandas as pd\n",
    "try:\n",
    "    df = pd.read_csv(\"D:/practicum/datasets_for_projects/data.csv\")\n",
    "except:\n",
    "    df = pd.read_csv(\"/datasets/data.csv\")\n",
    "    \n",
    "purp = df[\"purpose\"].unique() #создаем список уникальных значений столбца\n",
    "def simple_division(purpose):\n",
    "    \"\"\"функция распределяет уникальные элементы исходного Series \n",
    "    по спискам по наличию в них ключевых буквенных сочетаний.\n",
    "    в конечном результате последний список должен быть пуст\"\"\"\n",
    "    avto = []\n",
    "    realty = []\n",
    "    merrage = []\n",
    "    education = []\n",
    "    unidentified = [] #список для значений не попавших ни в одну категорию\n",
    "    for item in purpose:\n",
    "        if \"авто\" in item:\n",
    "            avto.append(item)\n",
    "        elif \"недвиж\" in item or \"жиль\" in item:\n",
    "            realty.append(item)\n",
    "        elif \"свадьб\" in item:\n",
    "            merrage.append(item)\n",
    "        elif \"образ\" in item:\n",
    "            education.append(item)\n",
    "        else:\n",
    "            unidentified.append(item)\n",
    "    return avto, realty, merrage, education, unidentified\n",
    "avto, realty, merrage, education, unidentified = simple_division(purp)\n",
    "simple_division(purp)"
   ]
  },
  {
   "cell_type": "code",
   "execution_count": 54,
   "id": "8b701117",
   "metadata": {},
   "outputs": [
    {
     "name": "stdout",
     "output_type": "stream",
     "text": [
      "300.0\n",
      "951.9\n",
      "400\n"
     ]
    }
   ],
   "source": [
    "def calculate_total_price(count, price): \n",
    "    total = count * price \n",
    "    if total > 1000: \n",
    "        total -= total * 0.05 \n",
    "    return total\n",
    "\n",
    "items_list = [\n",
    "    [3, 100.0],\n",
    "    [2, 501.0],\n",
    "    [10, 40]\n",
    "]\n",
    "\n",
    "for item in items_list:\n",
    "    print(calculate_total_price(item[0], item[1])) "
   ]
  },
  {
   "cell_type": "markdown",
   "id": "1b881f0a",
   "metadata": {},
   "source": [
    "# [▴](#head)"
   ]
  },
  {
   "cell_type": "code",
   "execution_count": 55,
   "id": "db9eeb2a",
   "metadata": {},
   "outputs": [],
   "source": [
    "def func(x, y):\n",
    "    if z > y:\n",
    "        return 'First'\n",
    "    elif x < y:\n",
    "        return 'Second'\n",
    "    else: \n",
    "        return 'Equal'"
   ]
  },
  {
   "cell_type": "markdown",
   "id": "fda7bd40",
   "metadata": {},
   "source": [
    "# [▴](#head)"
   ]
  },
  {
   "cell_type": "code",
   "execution_count": null,
   "id": "eb38ad75",
   "metadata": {},
   "outputs": [],
   "source": []
  },
  {
   "cell_type": "markdown",
   "id": "794371a7",
   "metadata": {},
   "source": [
    "<a id='function_02'></a>\n",
    "<div class=\"alert alert-info\">\n",
    "    <h3>Поиск значений усов коробки с усами</h3>\n",
    "</div>"
   ]
  },
  {
   "cell_type": "code",
   "execution_count": null,
   "id": "50d8f319",
   "metadata": {},
   "outputs": [],
   "source": [
    "def whisker_find(df_ser):\n",
    "    dict_from_desc = df_ser.describe().to_dict()\n",
    "    bottom_whisker = dict_from_desc['25%'] - ((dict_from_desc['75%'] - dict_from_desc['25%']) * 1.5)\n",
    "    top_whisker = dict_from_desc['75%'] + ((dict_from_desc['75%'] - dict_from_desc['25%']) * 1.5)\n",
    "    if bottom_whisker < dict_from_desc['min']:\n",
    "        bottom_whisker = dict_from_desc['min']\n",
    "    return round(bottom_whisker, 2), round(top_whisker, 2)\n",
    "\n",
    "print(whisker_find(df['colname']))"
   ]
  },
  {
   "cell_type": "markdown",
   "id": "07c8e59e",
   "metadata": {},
   "source": [
    "# [▴](#head)"
   ]
  },
  {
   "cell_type": "markdown",
   "id": "93a01de0",
   "metadata": {},
   "source": [
    "<a id='lambda_function'></a>\n",
    "<div style=\"border:solid orange 2px; padding: 40px\">\n",
    "    <h1><p style=\"text-align: center;\">Lambda функции</p></h1>\n",
    "</div>"
   ]
  },
  {
   "cell_type": "markdown",
   "id": "9c74086e",
   "metadata": {},
   "source": [
    "Лямбда-функции — функции, которые создаются в одну строку. После ключевого слова `lambda` указывают две части лямбда-функции:\n",
    "перед двоеточием: аргумент, который получит функция;\n",
    "после двоеточия: инструкция, которую функция выполнит.\n",
    "\n",
    "\n",
    "`lambda <аргумент>: <инструкция>`"
   ]
  },
  {
   "cell_type": "markdown",
   "id": "7f1508d7",
   "metadata": {},
   "source": [
    "<a id='lambda_function_01'></a>\n",
    "<div class=\"alert alert-info\">\n",
    "    <h3>Пример</h3>\n",
    "</div>"
   ]
  },
  {
   "cell_type": "code",
   "execution_count": null,
   "id": "0241584f",
   "metadata": {},
   "outputs": [],
   "source": [
    "# обычная\n",
    "def func(p, f, S, L): \n",
    "    return S * (1 + p / f) ** (f * L) - S\n",
    "\n",
    "# Lambda\n",
    "func = lambda p, f, S, L: S * (1 + p / f) ** (f * L) - S"
   ]
  },
  {
   "cell_type": "code",
   "execution_count": null,
   "id": "43cd4af1",
   "metadata": {},
   "outputs": [],
   "source": [
    "def func(x):\n",
    "    return x + 1\n",
    "\n",
    "func = lambda x: x + 1"
   ]
  },
  {
   "cell_type": "code",
   "execution_count": null,
   "id": "d9ff1ba8",
   "metadata": {},
   "outputs": [],
   "source": [
    "def func(x, y): \n",
    "    return x + y\n",
    "\n",
    "func = lambda x, y: x + y "
   ]
  },
  {
   "cell_type": "code",
   "execution_count": null,
   "id": "b62358fa",
   "metadata": {},
   "outputs": [],
   "source": [
    "my_list = [(1, 1), (2, 0), (3, 4), (1, -1), (2, 2)]\n",
    "print(sorted(my_list, key=lambda x: x[1]))"
   ]
  },
  {
   "cell_type": "code",
   "execution_count": null,
   "id": "5ebdcc97",
   "metadata": {},
   "outputs": [],
   "source": [
    "my_list = [0, 0, -1, -2, -3, 4, 3, 2, 5] \n",
    "print(list(map(lambda x: abs(x), my_list)))"
   ]
  },
  {
   "cell_type": "code",
   "execution_count": null,
   "id": "ee392325",
   "metadata": {},
   "outputs": [],
   "source": [
    "my_list = [1, 2, 3, 4, 5]\n",
    "print(list(map(lambda x: x**2, my_list)))\n",
    "for item in map(lambda x: x ** 2, my_list):\n",
    "    print(item, end=' ')"
   ]
  },
  {
   "cell_type": "code",
   "execution_count": null,
   "id": "c338ef7f",
   "metadata": {},
   "outputs": [],
   "source": [
    "a = [1, 2, 3, 4, 5]\n",
    "b = [6, 7, 8, 9, 10]\n",
    "print(list(map(lambda x, y: x * y, a, b)), \"- Перемножение списков\")\n",
    "print(list(map(lambda x, y: x + y, a, b)), \"- Пересложение списков\")"
   ]
  },
  {
   "cell_type": "code",
   "execution_count": null,
   "id": "a6bed051",
   "metadata": {},
   "outputs": [],
   "source": [
    "my_list = [0, 0, -1, -2, -3, 4, 3, 2, 5]\n",
    "print(list(filter(lambda x: x<=0, my_list)))"
   ]
  },
  {
   "cell_type": "code",
   "execution_count": null,
   "id": "902bb9d6",
   "metadata": {},
   "outputs": [],
   "source": [
    "movies_table_sorted = sorted(movies_table, key=lambda row: row[5])"
   ]
  },
  {
   "cell_type": "markdown",
   "id": "c9f36d53",
   "metadata": {},
   "source": [
    "# [▴](#head)"
   ]
  },
  {
   "cell_type": "code",
   "execution_count": null,
   "id": "638deaa0",
   "metadata": {},
   "outputs": [],
   "source": []
  },
  {
   "cell_type": "code",
   "execution_count": null,
   "id": "54ae8ebc",
   "metadata": {},
   "outputs": [],
   "source": []
  },
  {
   "cell_type": "markdown",
   "id": "61b5a58e",
   "metadata": {},
   "source": [
    "<a id='list_comprehension'></a>\n",
    "<div style=\"border:solid orange 2px; padding: 40px\">\n",
    "    <h1><p style=\"text-align: center;\">Генераторы списков</p></h1>\n",
    "</div>"
   ]
  },
  {
   "cell_type": "code",
   "execution_count": null,
   "id": "b0ab510a",
   "metadata": {},
   "outputs": [],
   "source": [
    "x = [k ** 2 for k in range(2, 12, 3)] # Расшифровывается как: Для каждого К от 2 до 12 c шагом 3, вернуть K**2 \n",
    "x = [k ** 2 for k in range(2, 12, 3) if k != 8] # Для каждого К от 2 до 12 с шагом 3, вернуть К**2 если K!=8\n",
    "x = (k ** 2 for k in range(2, 12, 3)) # Если использовать круглые скобки, то X = <class 'generator'>"
   ]
  },
  {
   "cell_type": "code",
   "execution_count": null,
   "id": "4e425e01",
   "metadata": {},
   "outputs": [],
   "source": [
    "print([line.split(': ') for line in s1.split('\\n') if line])"
   ]
  },
  {
   "cell_type": "code",
   "execution_count": null,
   "id": "77ddab3a",
   "metadata": {},
   "outputs": [],
   "source": [
    "print(\"\\n\".join([\" \".join(line.split(': ')) for line in s2.split('\\n') if line]))"
   ]
  },
  {
   "cell_type": "code",
   "execution_count": null,
   "id": "efbe600c",
   "metadata": {},
   "outputs": [],
   "source": [
    "list = [x for x in range(1, 21) if x > 1 and all(x % i != 0 for i in range(2, x))]"
   ]
  },
  {
   "cell_type": "code",
   "execution_count": null,
   "id": "ec2712c0",
   "metadata": {},
   "outputs": [],
   "source": []
  },
  {
   "cell_type": "markdown",
   "id": "bbdafde4",
   "metadata": {},
   "source": [
    "# [▴](#head)"
   ]
  },
  {
   "cell_type": "code",
   "execution_count": null,
   "id": "38636ade",
   "metadata": {},
   "outputs": [],
   "source": []
  },
  {
   "cell_type": "code",
   "execution_count": null,
   "id": "dc5c0c39",
   "metadata": {},
   "outputs": [],
   "source": []
  },
  {
   "cell_type": "code",
   "execution_count": null,
   "id": "7efcb6d8",
   "metadata": {},
   "outputs": [],
   "source": []
  },
  {
   "cell_type": "markdown",
   "id": "390ab82a",
   "metadata": {},
   "source": [
    "<a id='unpack_list'></a>\n",
    "<div style=\"border:solid orange 2px; padding: 40px\">\n",
    "    <h1><p style=\"text-align: center;\">Распаковка списков</p></h1>\n",
    "</div>"
   ]
  },
  {
   "cell_type": "code",
   "execution_count": null,
   "id": "f2be7ed9",
   "metadata": {},
   "outputs": [],
   "source": [
    "my_list = [\"А\", 2, None]\n",
    "x, y, z = my_list"
   ]
  },
  {
   "cell_type": "code",
   "execution_count": null,
   "id": "06a76432",
   "metadata": {},
   "outputs": [],
   "source": [
    "x, y = (1, \"а\")"
   ]
  },
  {
   "cell_type": "code",
   "execution_count": null,
   "id": "a92219c6",
   "metadata": {},
   "outputs": [],
   "source": [
    "for index, value in enumerate(my_list):\n",
    "    print(index, value)"
   ]
  },
  {
   "cell_type": "code",
   "execution_count": null,
   "id": "140f4056",
   "metadata": {},
   "outputs": [],
   "source": []
  },
  {
   "cell_type": "markdown",
   "id": "db64aba5",
   "metadata": {},
   "source": [
    "<a id='import_export'></a>\n",
    "<div style=\"border:solid orange 2px; padding: 40px\">\n",
    "    <h1><p style=\"text-align: center;\">Особенности Импорта и Экспорта файлов</p></h1>\n",
    "</div>"
   ]
  },
  {
   "cell_type": "markdown",
   "id": "aa22a645",
   "metadata": {},
   "source": [
    "<a id='import_export_01'></a>\n",
    "<div class=\"alert alert-info\">\n",
    "<h3> Экспорт CSV/Excel c кириллицей</h3>\n",
    "</div>"
   ]
  },
  {
   "cell_type": "code",
   "execution_count": null,
   "id": "1a3372dd",
   "metadata": {},
   "outputs": [],
   "source": [
    "import pandas as pd\n",
    "try:\n",
    "    df = pd.read_csv(\"/datasets/tweets_lemm_test.csv\")\n",
    "except:\n",
    "    df = pd.read_csv(\"D:/practicum/datasets_for_projects/tweets_lemm_test.csv\")\n",
    "\n",
    "try:\n",
    "    df.to_csv(\"C:/Users/Pasha/Desktop/name.csv\", encoding=\"utf-8-sig\")\n",
    "except:\n",
    "    df.to_csv(\"/name.csv\", encoding=\"utf-8-sig\") # впиши путь\n",
    "\n",
    "try:\n",
    "    df.to_excel(\"C:/Users/Pasha/Desktop/name.xlsx\")\n",
    "except:\n",
    "    df.to_excel(\"/name.xlsx\") # впиши путь\n",
    "    \n",
    "# проверяем рабочий стол"
   ]
  },
  {
   "cell_type": "code",
   "execution_count": null,
   "id": "4d032c7a",
   "metadata": {},
   "outputs": [],
   "source": []
  },
  {
   "cell_type": "code",
   "execution_count": null,
   "id": "227e02b1",
   "metadata": {},
   "outputs": [],
   "source": []
  },
  {
   "cell_type": "markdown",
   "id": "10fd92a0",
   "metadata": {},
   "source": [
    "<a id='plt'></a>\n",
    "<div style=\"border:solid orange 2px; padding: 40px\">\n",
    "    <h1><p style=\"text-align: center;\">Диаграммы и графики</p></h1>\n",
    "</div>"
   ]
  },
  {
   "cell_type": "markdown",
   "id": "ad65d158",
   "metadata": {},
   "source": [
    "<a id='plt_01'></a>\n",
    "<div class=\"alert alert-info\">\n",
    "    <h3>Heatmap для матрицы корреляции</h3>\n",
    "</div>"
   ]
  },
  {
   "cell_type": "code",
   "execution_count": null,
   "id": "120b7bf9",
   "metadata": {},
   "outputs": [],
   "source": [
    "import pandas as pd\n",
    "import matplotlib.pyplot as plt\n",
    "import seaborn as sns\n",
    "\n",
    "plt.figure(figsize=(12,10))\n",
    "corr_matrix = sns.heatmap(df.corr(),annot=True)\n",
    "corr_matrix.set_title(\"Корреляционная матрица\", fontsize=16)\n",
    "plt.show()"
   ]
  },
  {
   "cell_type": "markdown",
   "id": "78b350ce",
   "metadata": {},
   "source": [
    "<a id='plt_02'></a>\n",
    "<div class=\"alert alert-info\">\n",
    "    <h3>Seaborn Pairplot</h3>\n",
    "</div>"
   ]
  },
  {
   "cell_type": "code",
   "execution_count": null,
   "id": "d36b4389",
   "metadata": {},
   "outputs": [],
   "source": [
    "import pandas as pd\n",
    "import matplotlib.pyplot as plt\n",
    "import seaborn as sns\n",
    "\n",
    "plt.figure(figsize=(5,5))\n",
    "sns.pairplot(df)\n",
    "plt.show()"
   ]
  },
  {
   "cell_type": "markdown",
   "id": "764441b3",
   "metadata": {},
   "source": [
    "# [▴](#head)"
   ]
  }
 ],
 "metadata": {
  "kernelspec": {
   "display_name": "Python 3 (ipykernel)",
   "language": "python",
   "name": "python3"
  },
  "language_info": {
   "codemirror_mode": {
    "name": "ipython",
    "version": 3
   },
   "file_extension": ".py",
   "mimetype": "text/x-python",
   "name": "python",
   "nbconvert_exporter": "python",
   "pygments_lexer": "ipython3",
   "version": "3.9.12"
  }
 },
 "nbformat": 4,
 "nbformat_minor": 5
}
