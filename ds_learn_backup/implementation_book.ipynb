{
 "cells": [
  {
   "cell_type": "markdown",
   "id": "54b15fda",
   "metadata": {},
   "source": [
    "<a id='head'></a>\n",
    "# $Implementation Book &copy;\\$  \n",
    "`by Pasha and Dima`"
   ]
  },
  {
   "cell_type": "markdown",
   "id": "7e8ef5e4",
   "metadata": {},
   "source": [
    "# Оглавление\n",
    "\n",
    "- [**1. Анализ данных**](#part_01)\n",
    "    - [1.1 Hitmap для матрицы корреляции](#part_11)\n",
    "\n",
    "    \n",
    "- [**2. Подготовка к обучению**](#part_02)\n",
    "    - [2.1 Разделение на выборки](#part_21)\n",
    "    - [2.2 Standard Scaler](#part_22)\n",
    "    - [2.3 One Hot Encoder](#part_23)\n",
    "    - [2.4 Ordinal Encoder](#part_24)\n",
    "    - [2.5 Pipeline](#part_25)\n",
    "\n",
    "    \n",
    "- [**3. Классификация**](#part_03)\n",
    "    - [3.1 ](#part_31)\n",
    "\n",
    "\n",
    "- [**4. Регрессия**](#part_04)\n",
    "    - [4.1 ](#part_41)\n",
    "\n",
    "\n",
    "- [**5. Тексты**](#part_05)\n",
    "    - [5.1 ](#part_51)\n",
    "\n",
    "    \n",
    "- [**6. Зрение**](#part_06)\n",
    "    - [6.1 ](#part_61)\n",
    "\n",
    "\n",
    "- [**7. Обучение без учителя**](#part_07)\n",
    "    - [7.1 ](#part_71)\n"
   ]
  },
  {
   "cell_type": "markdown",
   "id": "24612d38",
   "metadata": {},
   "source": [
    "---"
   ]
  },
  {
   "cell_type": "markdown",
   "id": "a32e86ce",
   "metadata": {},
   "source": [
    "<a id='part_01'></a>\n",
    "# 1. Анализ данных [▴](#head)"
   ]
  },
  {
   "cell_type": "markdown",
   "id": "a75be38c",
   "metadata": {},
   "source": [
    "<a id='part_11'></a>\n",
    "## 1.1 Hitmap для матрицы корреляции [▴](#head)"
   ]
  },
  {
   "cell_type": "code",
   "execution_count": 1,
   "id": "31f1e2cd",
   "metadata": {},
   "outputs": [],
   "source": [
    "import pandas as pd\n",
    "import matplotlib.pyplot as plt\n",
    "import seaborn as sns\n",
    "import numpy as np\n",
    "\n",
    "df = sns.load_dataset('tips')"
   ]
  },
  {
   "cell_type": "code",
   "execution_count": 2,
   "id": "3a677aea",
   "metadata": {},
   "outputs": [
    {
     "data": {
      "text/plain": [
       "Text(0.5, 1.0, 'Корреляционная матрица')"
      ]
     },
     "execution_count": 2,
     "metadata": {},
     "output_type": "execute_result"
    },
    {
     "data": {
      "image/png": "[encoded data removed]",
      "text/plain": [
       "<Figure size 576x504 with 2 Axes>"
      ]
     },
     "metadata": {
      "needs_background": "light"
     },
     "output_type": "display_data"
    }
   ],
   "source": [
    "plt.figure(figsize=(8,7))\n",
    "corr_matrix = sns.heatmap(df.corr(), # получаем матрицу корреляции\n",
    "                          annot=True, # подписываем квадраты\n",
    "                          vmin=-1, vmax=1, center=0, # определяем границы значений шкалы\n",
    "                          cmap='seismic', # или coolwarm \n",
    "                          # https://matplotlib.org/stable/gallery/color/colormap_reference.html\n",
    "                          mask=(np.tri(len(df.corr())).T), # создаем маску, чтобы отображать лишние блоки\n",
    "                          linewidths=1,\n",
    "                          linecolor='grey')\n",
    "\n",
    "corr_matrix.set_title(\"Корреляционная матрица\", fontsize=16)\n",
    "\n",
    "# Маски:\n",
    "# mask = np.triu(df.corr())\n",
    "# mask = np.tril(df.corr())"
   ]
  },
  {
   "cell_type": "markdown",
   "id": "f8821b74",
   "metadata": {},
   "source": [
    "---"
   ]
  },
  {
   "cell_type": "markdown",
   "id": "3f69b811",
   "metadata": {},
   "source": [
    "<a id='part_02'></a>\n",
    "# 2. Подготовка обучению[▴](#head)"
   ]
  },
  {
   "cell_type": "code",
   "execution_count": 3,
   "id": "8692bb7c",
   "metadata": {},
   "outputs": [
    {
     "data": {
      "text/html": [
       "<div>\n",
       "<style scoped>\n",
       "    .dataframe tbody tr th:only-of-type {\n",
       "        vertical-align: middle;\n",
       "    }\n",
       "\n",
       "    .dataframe tbody tr th {\n",
       "        vertical-align: top;\n",
       "    }\n",
       "\n",
       "    .dataframe thead th {\n",
       "        text-align: right;\n",
       "    }\n",
       "</style>\n",
       "<table border=\"1\" class=\"dataframe\">\n",
       "  <thead>\n",
       "    <tr style=\"text-align: right;\">\n",
       "      <th></th>\n",
       "      <th>total_bill</th>\n",
       "      <th>tip</th>\n",
       "      <th>sex</th>\n",
       "      <th>smoker</th>\n",
       "      <th>day</th>\n",
       "      <th>time</th>\n",
       "      <th>size</th>\n",
       "    </tr>\n",
       "  </thead>\n",
       "  <tbody>\n",
       "    <tr>\n",
       "      <th>0</th>\n",
       "      <td>16.99</td>\n",
       "      <td>1.01</td>\n",
       "      <td>Female</td>\n",
       "      <td>No</td>\n",
       "      <td>Sun</td>\n",
       "      <td>Dinner</td>\n",
       "      <td>2</td>\n",
       "    </tr>\n",
       "    <tr>\n",
       "      <th>1</th>\n",
       "      <td>10.34</td>\n",
       "      <td>1.66</td>\n",
       "      <td>Male</td>\n",
       "      <td>No</td>\n",
       "      <td>Sun</td>\n",
       "      <td>Dinner</td>\n",
       "      <td>3</td>\n",
       "    </tr>\n",
       "    <tr>\n",
       "      <th>2</th>\n",
       "      <td>21.01</td>\n",
       "      <td>3.50</td>\n",
       "      <td>Male</td>\n",
       "      <td>No</td>\n",
       "      <td>Sun</td>\n",
       "      <td>Dinner</td>\n",
       "      <td>3</td>\n",
       "    </tr>\n",
       "    <tr>\n",
       "      <th>3</th>\n",
       "      <td>23.68</td>\n",
       "      <td>3.31</td>\n",
       "      <td>Male</td>\n",
       "      <td>No</td>\n",
       "      <td>Sun</td>\n",
       "      <td>Dinner</td>\n",
       "      <td>2</td>\n",
       "    </tr>\n",
       "    <tr>\n",
       "      <th>4</th>\n",
       "      <td>24.59</td>\n",
       "      <td>3.61</td>\n",
       "      <td>Female</td>\n",
       "      <td>No</td>\n",
       "      <td>Sun</td>\n",
       "      <td>Dinner</td>\n",
       "      <td>4</td>\n",
       "    </tr>\n",
       "    <tr>\n",
       "      <th>...</th>\n",
       "      <td>...</td>\n",
       "      <td>...</td>\n",
       "      <td>...</td>\n",
       "      <td>...</td>\n",
       "      <td>...</td>\n",
       "      <td>...</td>\n",
       "      <td>...</td>\n",
       "    </tr>\n",
       "    <tr>\n",
       "      <th>239</th>\n",
       "      <td>29.03</td>\n",
       "      <td>5.92</td>\n",
       "      <td>Male</td>\n",
       "      <td>No</td>\n",
       "      <td>Sat</td>\n",
       "      <td>Dinner</td>\n",
       "      <td>3</td>\n",
       "    </tr>\n",
       "    <tr>\n",
       "      <th>240</th>\n",
       "      <td>27.18</td>\n",
       "      <td>2.00</td>\n",
       "      <td>Female</td>\n",
       "      <td>Yes</td>\n",
       "      <td>Sat</td>\n",
       "      <td>Dinner</td>\n",
       "      <td>2</td>\n",
       "    </tr>\n",
       "    <tr>\n",
       "      <th>241</th>\n",
       "      <td>22.67</td>\n",
       "      <td>2.00</td>\n",
       "      <td>Male</td>\n",
       "      <td>Yes</td>\n",
       "      <td>Sat</td>\n",
       "      <td>Dinner</td>\n",
       "      <td>2</td>\n",
       "    </tr>\n",
       "    <tr>\n",
       "      <th>242</th>\n",
       "      <td>17.82</td>\n",
       "      <td>1.75</td>\n",
       "      <td>Male</td>\n",
       "      <td>No</td>\n",
       "      <td>Sat</td>\n",
       "      <td>Dinner</td>\n",
       "      <td>2</td>\n",
       "    </tr>\n",
       "    <tr>\n",
       "      <th>243</th>\n",
       "      <td>18.78</td>\n",
       "      <td>3.00</td>\n",
       "      <td>Female</td>\n",
       "      <td>No</td>\n",
       "      <td>Thur</td>\n",
       "      <td>Dinner</td>\n",
       "      <td>2</td>\n",
       "    </tr>\n",
       "  </tbody>\n",
       "</table>\n",
       "<p>244 rows × 7 columns</p>\n",
       "</div>"
      ],
      "text/plain": [
       "     total_bill   tip     sex smoker   day    time  size\n",
       "0         16.99  1.01  Female     No   Sun  Dinner     2\n",
       "1         10.34  1.66    Male     No   Sun  Dinner     3\n",
       "2         21.01  3.50    Male     No   Sun  Dinner     3\n",
       "3         23.68  3.31    Male     No   Sun  Dinner     2\n",
       "4         24.59  3.61  Female     No   Sun  Dinner     4\n",
       "..          ...   ...     ...    ...   ...     ...   ...\n",
       "239       29.03  5.92    Male     No   Sat  Dinner     3\n",
       "240       27.18  2.00  Female    Yes   Sat  Dinner     2\n",
       "241       22.67  2.00    Male    Yes   Sat  Dinner     2\n",
       "242       17.82  1.75    Male     No   Sat  Dinner     2\n",
       "243       18.78  3.00  Female     No  Thur  Dinner     2\n",
       "\n",
       "[244 rows x 7 columns]"
      ]
     },
     "execution_count": 3,
     "metadata": {},
     "output_type": "execute_result"
    }
   ],
   "source": [
    "import pandas as pd\n",
    "import seaborn as sns\n",
    "import matplotlib.pyplot as plt\n",
    "df = sns.load_dataset('tips')\n",
    "df"
   ]
  },
  {
   "cell_type": "markdown",
   "id": "f00008ef",
   "metadata": {},
   "source": [
    "<a id='part_21'></a>\n",
    "## 2.1 Разделение на выборки [▴](#head)"
   ]
  },
  {
   "cell_type": "code",
   "execution_count": 4,
   "id": "d3a70665",
   "metadata": {},
   "outputs": [],
   "source": [
    "from sklearn.model_selection import train_test_split\n",
    "\n",
    "X = df.drop(['size'], axis=1)\n",
    "y = df['size']\n",
    "\n",
    "X_train, X_test, y_train, y_test = train_test_split(X, y, \n",
    "                                                    random_state=12345, \n",
    "                                                    test_size=0.25,\n",
    "                                                    stratify=y) # стратифицируем выборку по таргету\n",
    "                                                                # чтобы в выборки попало одинаковое соотношение классов\n",
    "                                                                # это требуется только для задач классификации"
   ]
  },
  {
   "cell_type": "code",
   "execution_count": 5,
   "id": "6e3756a3",
   "metadata": {},
   "outputs": [
    {
     "name": "stdout",
     "output_type": "stream",
     "text": [
      "Размеры выборок:\n",
      "\n",
      "(244, 7) - df\n",
      "(244, 6) - X\n",
      "(244,) - y\n",
      "\n",
      "\n",
      "Доля: 0.75 | X: (183, 6) - Тренировочные\n",
      "Доля: 0.75 | y: (183,) - Тренировочные\n",
      "\n",
      "Доля: 0.25 | X: (61, 6) - Тестовые\n",
      "Доля: 0.25 | y: (61,) - Тестовые\n",
      "\n",
      "\n",
      "Распределение классов:\n"
     ]
    },
    {
     "data": {
      "image/png": "[encoded data removed]",
      "text/plain": [
       "<Figure size 1080x360 with 3 Axes>"
      ]
     },
     "metadata": {
      "needs_background": "light"
     },
     "output_type": "display_data"
    }
   ],
   "source": [
    "def part_of_df(X, y, title):\n",
    "    print(f'\\nДоля: {len(X) / len(df):.2f} | X: {X.shape} - {title}')\n",
    "    print(f'Доля: {len(y) / len(df):.2f} | y: {y.shape} - {title}')\n",
    "\n",
    "print('Размеры выборок:\\n')\n",
    "\n",
    "print(f'{df.shape} - df')\n",
    "print(f'{X.shape} - X')\n",
    "print(f'{y.shape} - y\\n')\n",
    "\n",
    "part_of_df(X_train, y_train, 'Тренировочные')\n",
    "part_of_df(X_test, y_test, 'Тестовые')\n",
    "\n",
    "\n",
    "print('\\n')\n",
    "print('Распределение классов:')\n",
    "\n",
    "fig, axs = plt.subplots(1, 3, figsize=(15, 5))\n",
    "\n",
    "for i in range(3):\n",
    "    sns.histplot(data=[y, y_train, y_test][i], ax=axs[i])\n",
    "    axs[i].set_title(['target', 'target_train', 'target_test'][i])\n",
    "    axs[i].grid()\n",
    "    axs[i].set_ylabel('')\n",
    "    \n",
    "plt.show()"
   ]
  },
  {
   "cell_type": "markdown",
   "id": "61e8b332",
   "metadata": {},
   "source": [
    "<a id='part_22'></a>\n",
    "## 2.2 Standard Scaler [▴](#head)"
   ]
  },
  {
   "cell_type": "markdown",
   "id": "d2c35dfd",
   "metadata": {},
   "source": [
    "Кодировать признаки стоит только после деления на выборки, иначе возможно утечка."
   ]
  },
  {
   "cell_type": "code",
   "execution_count": 6,
   "id": "9a3688f3",
   "metadata": {},
   "outputs": [],
   "source": [
    "from sklearn.preprocessing import StandardScaler"
   ]
  },
  {
   "cell_type": "code",
   "execution_count": 7,
   "id": "9f2ce9aa",
   "metadata": {},
   "outputs": [],
   "source": [
    "X_train, X_test, y_train, y_test = train_test_split(X, y, \n",
    "                                                    random_state=12345, \n",
    "                                                    test_size=0.25,\n",
    "                                                    stratify=y)"
   ]
  },
  {
   "cell_type": "markdown",
   "id": "ccec2ddc",
   "metadata": {},
   "source": [
    "### Обучаем Scaler"
   ]
  },
  {
   "cell_type": "code",
   "execution_count": 8,
   "id": "089e2526",
   "metadata": {},
   "outputs": [
    {
     "data": {
      "text/plain": [
       "StandardScaler()"
      ]
     },
     "execution_count": 8,
     "metadata": {},
     "output_type": "execute_result"
    }
   ],
   "source": [
    "scaler = StandardScaler()\n",
    "\n",
    "# получаем список заголовков столбцов с текстовыми данными\n",
    "# получаем список заголовков столбцов с числовыми данными\n",
    "cat_headings = X_train.select_dtypes(include=['object', 'category']).columns \n",
    "num_headings = X_train.columns.drop(cat_headings)\n",
    "\n",
    "# оставим в переменных столбцы с числовыми и текстовыми даннымми\n",
    "# и сбрасываем индекс для корректного конкатенирования\n",
    "num_cols = X_train[num_headings].reset_index(drop=True) \n",
    "cat_cols = X_train[cat_headings].reset_index(drop=True)\n",
    "\n",
    "scaler.fit(num_cols) # обучаем scaler"
   ]
  },
  {
   "cell_type": "markdown",
   "id": "07abf0e9",
   "metadata": {},
   "source": [
    "### Трансоформируем X_train"
   ]
  },
  {
   "cell_type": "code",
   "execution_count": 9,
   "id": "9d624c79",
   "metadata": {},
   "outputs": [],
   "source": [
    "num_cols = scaler.transform(num_cols) # масштабируем признаки\n",
    "# после преобразования получится numpy массив\n",
    "\n",
    "# восстанавливаем датафрейм с цифровыми признаками\n",
    "# только теперь они отмасштабированы\n",
    "num_cols = pd.DataFrame(num_cols, columns=num_headings) "
   ]
  },
  {
   "cell_type": "code",
   "execution_count": 10,
   "id": "5cbb4d07",
   "metadata": {},
   "outputs": [],
   "source": [
    "# сшиваем обратно нашу тренировочную выборку\n",
    "X_train = pd.concat([num_cols, cat_cols], axis=1).copy() "
   ]
  },
  {
   "cell_type": "code",
   "execution_count": 11,
   "id": "6f8c99b9",
   "metadata": {
    "scrolled": false
   },
   "outputs": [
    {
     "data": {
      "text/html": [
       "<div>\n",
       "<style scoped>\n",
       "    .dataframe tbody tr th:only-of-type {\n",
       "        vertical-align: middle;\n",
       "    }\n",
       "\n",
       "    .dataframe tbody tr th {\n",
       "        vertical-align: top;\n",
       "    }\n",
       "\n",
       "    .dataframe thead th {\n",
       "        text-align: right;\n",
       "    }\n",
       "</style>\n",
       "<table border=\"1\" class=\"dataframe\">\n",
       "  <thead>\n",
       "    <tr style=\"text-align: right;\">\n",
       "      <th></th>\n",
       "      <th>total_bill</th>\n",
       "      <th>tip</th>\n",
       "      <th>sex</th>\n",
       "      <th>smoker</th>\n",
       "      <th>day</th>\n",
       "      <th>time</th>\n",
       "    </tr>\n",
       "  </thead>\n",
       "  <tbody>\n",
       "    <tr>\n",
       "      <th>0</th>\n",
       "      <td>-0.770112</td>\n",
       "      <td>-0.718032</td>\n",
       "      <td>Male</td>\n",
       "      <td>No</td>\n",
       "      <td>Sun</td>\n",
       "      <td>Dinner</td>\n",
       "    </tr>\n",
       "    <tr>\n",
       "      <th>1</th>\n",
       "      <td>-0.870775</td>\n",
       "      <td>-0.718032</td>\n",
       "      <td>Female</td>\n",
       "      <td>No</td>\n",
       "      <td>Thur</td>\n",
       "      <td>Lunch</td>\n",
       "    </tr>\n",
       "    <tr>\n",
       "      <th>2</th>\n",
       "      <td>3.302657</td>\n",
       "      <td>4.189135</td>\n",
       "      <td>Male</td>\n",
       "      <td>No</td>\n",
       "      <td>Sat</td>\n",
       "      <td>Dinner</td>\n",
       "    </tr>\n",
       "    <tr>\n",
       "      <th>3</th>\n",
       "      <td>-0.132585</td>\n",
       "      <td>-1.166688</td>\n",
       "      <td>Female</td>\n",
       "      <td>No</td>\n",
       "      <td>Thur</td>\n",
       "      <td>Lunch</td>\n",
       "    </tr>\n",
       "    <tr>\n",
       "      <th>4</th>\n",
       "      <td>2.108595</td>\n",
       "      <td>-0.017008</td>\n",
       "      <td>Male</td>\n",
       "      <td>Yes</td>\n",
       "      <td>Sat</td>\n",
       "      <td>Dinner</td>\n",
       "    </tr>\n",
       "    <tr>\n",
       "      <th>...</th>\n",
       "      <td>...</td>\n",
       "      <td>...</td>\n",
       "      <td>...</td>\n",
       "      <td>...</td>\n",
       "      <td>...</td>\n",
       "      <td>...</td>\n",
       "    </tr>\n",
       "    <tr>\n",
       "      <th>178</th>\n",
       "      <td>0.967757</td>\n",
       "      <td>-0.017008</td>\n",
       "      <td>Male</td>\n",
       "      <td>Yes</td>\n",
       "      <td>Sat</td>\n",
       "      <td>Dinner</td>\n",
       "    </tr>\n",
       "    <tr>\n",
       "      <th>179</th>\n",
       "      <td>-0.174238</td>\n",
       "      <td>0.684015</td>\n",
       "      <td>Male</td>\n",
       "      <td>No</td>\n",
       "      <td>Thur</td>\n",
       "      <td>Lunch</td>\n",
       "    </tr>\n",
       "    <tr>\n",
       "      <th>180</th>\n",
       "      <td>1.235033</td>\n",
       "      <td>-0.718032</td>\n",
       "      <td>Male</td>\n",
       "      <td>Yes</td>\n",
       "      <td>Sun</td>\n",
       "      <td>Dinner</td>\n",
       "    </tr>\n",
       "    <tr>\n",
       "      <th>181</th>\n",
       "      <td>1.069576</td>\n",
       "      <td>2.029981</td>\n",
       "      <td>Male</td>\n",
       "      <td>No</td>\n",
       "      <td>Sat</td>\n",
       "      <td>Dinner</td>\n",
       "    </tr>\n",
       "    <tr>\n",
       "      <th>182</th>\n",
       "      <td>-0.460026</td>\n",
       "      <td>0.095155</td>\n",
       "      <td>Male</td>\n",
       "      <td>Yes</td>\n",
       "      <td>Sat</td>\n",
       "      <td>Dinner</td>\n",
       "    </tr>\n",
       "  </tbody>\n",
       "</table>\n",
       "<p>183 rows × 6 columns</p>\n",
       "</div>"
      ],
      "text/plain": [
       "     total_bill       tip     sex smoker   day    time\n",
       "0     -0.770112 -0.718032    Male     No   Sun  Dinner\n",
       "1     -0.870775 -0.718032  Female     No  Thur   Lunch\n",
       "2      3.302657  4.189135    Male     No   Sat  Dinner\n",
       "3     -0.132585 -1.166688  Female     No  Thur   Lunch\n",
       "4      2.108595 -0.017008    Male    Yes   Sat  Dinner\n",
       "..          ...       ...     ...    ...   ...     ...\n",
       "178    0.967757 -0.017008    Male    Yes   Sat  Dinner\n",
       "179   -0.174238  0.684015    Male     No  Thur   Lunch\n",
       "180    1.235033 -0.718032    Male    Yes   Sun  Dinner\n",
       "181    1.069576  2.029981    Male     No   Sat  Dinner\n",
       "182   -0.460026  0.095155    Male    Yes   Sat  Dinner\n",
       "\n",
       "[183 rows x 6 columns]"
      ]
     },
     "execution_count": 11,
     "metadata": {},
     "output_type": "execute_result"
    }
   ],
   "source": [
    "X_train"
   ]
  },
  {
   "cell_type": "markdown",
   "id": "153624da",
   "metadata": {},
   "source": [
    "### Трансоформируем X_test"
   ]
  },
  {
   "cell_type": "code",
   "execution_count": 12,
   "id": "0d3b4266",
   "metadata": {},
   "outputs": [],
   "source": [
    "cat_headings = X_test.select_dtypes(include=['object', 'category']).columns \n",
    "num_headings = X_test.columns.drop(cat_headings)\n",
    "\n",
    "num_cols = X_test[num_headings].reset_index(drop=True) \n",
    "cat_cols = X_test[cat_headings].reset_index(drop=True)\n",
    "\n",
    "num_cols = scaler.transform(num_cols)\n",
    "num_cols = pd.DataFrame(num_cols, columns=num_headings)\n",
    "\n",
    "X_test = pd.concat([num_cols, cat_cols], axis=1).copy()"
   ]
  },
  {
   "cell_type": "code",
   "execution_count": 13,
   "id": "2a278c0d",
   "metadata": {},
   "outputs": [
    {
     "data": {
      "text/html": [
       "<div>\n",
       "<style scoped>\n",
       "    .dataframe tbody tr th:only-of-type {\n",
       "        vertical-align: middle;\n",
       "    }\n",
       "\n",
       "    .dataframe tbody tr th {\n",
       "        vertical-align: top;\n",
       "    }\n",
       "\n",
       "    .dataframe thead th {\n",
       "        text-align: right;\n",
       "    }\n",
       "</style>\n",
       "<table border=\"1\" class=\"dataframe\">\n",
       "  <thead>\n",
       "    <tr style=\"text-align: right;\">\n",
       "      <th></th>\n",
       "      <th>total_bill</th>\n",
       "      <th>tip</th>\n",
       "      <th>sex</th>\n",
       "      <th>smoker</th>\n",
       "      <th>day</th>\n",
       "      <th>time</th>\n",
       "    </tr>\n",
       "  </thead>\n",
       "  <tbody>\n",
       "    <tr>\n",
       "      <th>0</th>\n",
       "      <td>-0.726145</td>\n",
       "      <td>-0.718032</td>\n",
       "      <td>Male</td>\n",
       "      <td>Yes</td>\n",
       "      <td>Thur</td>\n",
       "      <td>Lunch</td>\n",
       "    </tr>\n",
       "    <tr>\n",
       "      <th>1</th>\n",
       "      <td>1.517350</td>\n",
       "      <td>0.060104</td>\n",
       "      <td>Male</td>\n",
       "      <td>Yes</td>\n",
       "      <td>Sun</td>\n",
       "      <td>Dinner</td>\n",
       "    </tr>\n",
       "    <tr>\n",
       "      <th>2</th>\n",
       "      <td>-0.988792</td>\n",
       "      <td>-0.886278</td>\n",
       "      <td>Male</td>\n",
       "      <td>Yes</td>\n",
       "      <td>Sat</td>\n",
       "      <td>Dinner</td>\n",
       "    </tr>\n",
       "    <tr>\n",
       "      <th>3</th>\n",
       "      <td>-0.464655</td>\n",
       "      <td>-0.556797</td>\n",
       "      <td>Female</td>\n",
       "      <td>No</td>\n",
       "      <td>Sat</td>\n",
       "      <td>Dinner</td>\n",
       "    </tr>\n",
       "    <tr>\n",
       "      <th>4</th>\n",
       "      <td>-1.094083</td>\n",
       "      <td>-0.718032</td>\n",
       "      <td>Female</td>\n",
       "      <td>No</td>\n",
       "      <td>Thur</td>\n",
       "      <td>Lunch</td>\n",
       "    </tr>\n",
       "    <tr>\n",
       "      <th>...</th>\n",
       "      <td>...</td>\n",
       "      <td>...</td>\n",
       "      <td>...</td>\n",
       "      <td>...</td>\n",
       "      <td>...</td>\n",
       "      <td>...</td>\n",
       "    </tr>\n",
       "    <tr>\n",
       "      <th>56</th>\n",
       "      <td>-0.406803</td>\n",
       "      <td>-0.367520</td>\n",
       "      <td>Female</td>\n",
       "      <td>Yes</td>\n",
       "      <td>Fri</td>\n",
       "      <td>Lunch</td>\n",
       "    </tr>\n",
       "    <tr>\n",
       "      <th>57</th>\n",
       "      <td>-1.414582</td>\n",
       "      <td>-1.110606</td>\n",
       "      <td>Male</td>\n",
       "      <td>No</td>\n",
       "      <td>Thur</td>\n",
       "      <td>Lunch</td>\n",
       "    </tr>\n",
       "    <tr>\n",
       "      <th>58</th>\n",
       "      <td>-0.661351</td>\n",
       "      <td>-0.367520</td>\n",
       "      <td>Male</td>\n",
       "      <td>No</td>\n",
       "      <td>Sun</td>\n",
       "      <td>Dinner</td>\n",
       "    </tr>\n",
       "    <tr>\n",
       "      <th>59</th>\n",
       "      <td>-0.383662</td>\n",
       "      <td>0.144227</td>\n",
       "      <td>Female</td>\n",
       "      <td>Yes</td>\n",
       "      <td>Thur</td>\n",
       "      <td>Lunch</td>\n",
       "    </tr>\n",
       "    <tr>\n",
       "      <th>60</th>\n",
       "      <td>2.957860</td>\n",
       "      <td>0.333503</td>\n",
       "      <td>Male</td>\n",
       "      <td>Yes</td>\n",
       "      <td>Sun</td>\n",
       "      <td>Dinner</td>\n",
       "    </tr>\n",
       "  </tbody>\n",
       "</table>\n",
       "<p>61 rows × 6 columns</p>\n",
       "</div>"
      ],
      "text/plain": [
       "    total_bill       tip     sex smoker   day    time\n",
       "0    -0.726145 -0.718032    Male    Yes  Thur   Lunch\n",
       "1     1.517350  0.060104    Male    Yes   Sun  Dinner\n",
       "2    -0.988792 -0.886278    Male    Yes   Sat  Dinner\n",
       "3    -0.464655 -0.556797  Female     No   Sat  Dinner\n",
       "4    -1.094083 -0.718032  Female     No  Thur   Lunch\n",
       "..         ...       ...     ...    ...   ...     ...\n",
       "56   -0.406803 -0.367520  Female    Yes   Fri   Lunch\n",
       "57   -1.414582 -1.110606    Male     No  Thur   Lunch\n",
       "58   -0.661351 -0.367520    Male     No   Sun  Dinner\n",
       "59   -0.383662  0.144227  Female    Yes  Thur   Lunch\n",
       "60    2.957860  0.333503    Male    Yes   Sun  Dinner\n",
       "\n",
       "[61 rows x 6 columns]"
      ]
     },
     "execution_count": 13,
     "metadata": {},
     "output_type": "execute_result"
    }
   ],
   "source": [
    "X_test"
   ]
  },
  {
   "cell_type": "markdown",
   "id": "53d0c8a2",
   "metadata": {},
   "source": [
    "<a id='part_23'></a>\n",
    "## 2.3 One Hot Encoder [▴](#head)"
   ]
  },
  {
   "cell_type": "markdown",
   "id": "7d084088",
   "metadata": {},
   "source": [
    "Кодировать признаки стоит только после деления на выборки, иначе возможно утечка."
   ]
  },
  {
   "cell_type": "code",
   "execution_count": 14,
   "id": "e977d809",
   "metadata": {},
   "outputs": [],
   "source": [
    "from sklearn.preprocessing import OneHotEncoder"
   ]
  },
  {
   "cell_type": "code",
   "execution_count": 15,
   "id": "4022cfcc",
   "metadata": {},
   "outputs": [],
   "source": [
    "X_train, X_test, y_train, y_test = train_test_split(X, y, \n",
    "                                                    random_state=12345, \n",
    "                                                    test_size=0.25,\n",
    "                                                    stratify=y)"
   ]
  },
  {
   "cell_type": "markdown",
   "id": "a3cb13b0",
   "metadata": {},
   "source": [
    "### Обучаем OHE"
   ]
  },
  {
   "cell_type": "code",
   "execution_count": 16,
   "id": "4a2e682c",
   "metadata": {},
   "outputs": [
    {
     "data": {
      "text/plain": [
       "OneHotEncoder(drop='first')"
      ]
     },
     "execution_count": 16,
     "metadata": {},
     "output_type": "execute_result"
    }
   ],
   "source": [
    "# чтобы модель не переобучилась избавляемся от первого признака в группе\n",
    "ohe_encoder = OneHotEncoder(drop='first') \n",
    "\n",
    "# получаем список заголовков столбцов с текстовыми данными\n",
    "# получаем список заголовков столбцов с числовыми данными\n",
    "cat_headings = X_train.select_dtypes(include=['object', 'category']).columns \n",
    "num_headings = X_train.columns.drop(cat_headings)\n",
    "\n",
    "# оставим в переменных столбцы с числовыми и текстовыми даннымми\n",
    "# и сбрасываем индекс для корректного конкатенирования\n",
    "num_cols = X_train[num_headings].reset_index(drop=True) \n",
    "cat_cols = X_train[cat_headings].reset_index(drop=True)\n",
    "\n",
    "ohe_encoder.fit(cat_cols) # обучаем encoder"
   ]
  },
  {
   "cell_type": "markdown",
   "id": "5bd390fa",
   "metadata": {},
   "source": [
    "### Трансоформируем X_train"
   ]
  },
  {
   "cell_type": "code",
   "execution_count": 17,
   "id": "0b87d0b8",
   "metadata": {},
   "outputs": [],
   "source": [
    "# получаем массив кодированных признаков\n",
    "cat_cols = ohe_encoder.transform(cat_cols).toarray() \n",
    "\n",
    "# получаем имена кодированных столбцов\n",
    "new_headings = ohe_encoder.get_feature_names_out() \n",
    "\n",
    "# получаем датафрейм кодированных признаков с заголовками\n",
    "cat_cols = pd.DataFrame(cat_cols, columns=new_headings)"
   ]
  },
  {
   "cell_type": "code",
   "execution_count": 18,
   "id": "9e003c3c",
   "metadata": {},
   "outputs": [],
   "source": [
    "# сшиваем обратно нашу тренировочную выборку\n",
    "X_train = pd.concat([num_cols, cat_cols], axis=1).copy()"
   ]
  },
  {
   "cell_type": "code",
   "execution_count": 19,
   "id": "c7c58825",
   "metadata": {},
   "outputs": [
    {
     "data": {
      "text/html": [
       "<div>\n",
       "<style scoped>\n",
       "    .dataframe tbody tr th:only-of-type {\n",
       "        vertical-align: middle;\n",
       "    }\n",
       "\n",
       "    .dataframe tbody tr th {\n",
       "        vertical-align: top;\n",
       "    }\n",
       "\n",
       "    .dataframe thead th {\n",
       "        text-align: right;\n",
       "    }\n",
       "</style>\n",
       "<table border=\"1\" class=\"dataframe\">\n",
       "  <thead>\n",
       "    <tr style=\"text-align: right;\">\n",
       "      <th></th>\n",
       "      <th>total_bill</th>\n",
       "      <th>tip</th>\n",
       "      <th>sex_Male</th>\n",
       "      <th>smoker_Yes</th>\n",
       "      <th>day_Sat</th>\n",
       "      <th>day_Sun</th>\n",
       "      <th>day_Thur</th>\n",
       "      <th>time_Lunch</th>\n",
       "    </tr>\n",
       "  </thead>\n",
       "  <tbody>\n",
       "    <tr>\n",
       "      <th>0</th>\n",
       "      <td>13.13</td>\n",
       "      <td>2.00</td>\n",
       "      <td>1.0</td>\n",
       "      <td>0.0</td>\n",
       "      <td>0.0</td>\n",
       "      <td>1.0</td>\n",
       "      <td>0.0</td>\n",
       "      <td>0.0</td>\n",
       "    </tr>\n",
       "    <tr>\n",
       "      <th>1</th>\n",
       "      <td>12.26</td>\n",
       "      <td>2.00</td>\n",
       "      <td>0.0</td>\n",
       "      <td>0.0</td>\n",
       "      <td>0.0</td>\n",
       "      <td>0.0</td>\n",
       "      <td>1.0</td>\n",
       "      <td>1.0</td>\n",
       "    </tr>\n",
       "    <tr>\n",
       "      <th>2</th>\n",
       "      <td>48.33</td>\n",
       "      <td>9.00</td>\n",
       "      <td>1.0</td>\n",
       "      <td>0.0</td>\n",
       "      <td>1.0</td>\n",
       "      <td>0.0</td>\n",
       "      <td>0.0</td>\n",
       "      <td>0.0</td>\n",
       "    </tr>\n",
       "    <tr>\n",
       "      <th>3</th>\n",
       "      <td>18.64</td>\n",
       "      <td>1.36</td>\n",
       "      <td>0.0</td>\n",
       "      <td>0.0</td>\n",
       "      <td>0.0</td>\n",
       "      <td>0.0</td>\n",
       "      <td>1.0</td>\n",
       "      <td>1.0</td>\n",
       "    </tr>\n",
       "    <tr>\n",
       "      <th>4</th>\n",
       "      <td>38.01</td>\n",
       "      <td>3.00</td>\n",
       "      <td>1.0</td>\n",
       "      <td>1.0</td>\n",
       "      <td>1.0</td>\n",
       "      <td>0.0</td>\n",
       "      <td>0.0</td>\n",
       "      <td>0.0</td>\n",
       "    </tr>\n",
       "    <tr>\n",
       "      <th>...</th>\n",
       "      <td>...</td>\n",
       "      <td>...</td>\n",
       "      <td>...</td>\n",
       "      <td>...</td>\n",
       "      <td>...</td>\n",
       "      <td>...</td>\n",
       "      <td>...</td>\n",
       "      <td>...</td>\n",
       "    </tr>\n",
       "    <tr>\n",
       "      <th>178</th>\n",
       "      <td>28.15</td>\n",
       "      <td>3.00</td>\n",
       "      <td>1.0</td>\n",
       "      <td>1.0</td>\n",
       "      <td>1.0</td>\n",
       "      <td>0.0</td>\n",
       "      <td>0.0</td>\n",
       "      <td>0.0</td>\n",
       "    </tr>\n",
       "    <tr>\n",
       "      <th>179</th>\n",
       "      <td>18.28</td>\n",
       "      <td>4.00</td>\n",
       "      <td>1.0</td>\n",
       "      <td>0.0</td>\n",
       "      <td>0.0</td>\n",
       "      <td>0.0</td>\n",
       "      <td>1.0</td>\n",
       "      <td>1.0</td>\n",
       "    </tr>\n",
       "    <tr>\n",
       "      <th>180</th>\n",
       "      <td>30.46</td>\n",
       "      <td>2.00</td>\n",
       "      <td>1.0</td>\n",
       "      <td>1.0</td>\n",
       "      <td>0.0</td>\n",
       "      <td>1.0</td>\n",
       "      <td>0.0</td>\n",
       "      <td>0.0</td>\n",
       "    </tr>\n",
       "    <tr>\n",
       "      <th>181</th>\n",
       "      <td>29.03</td>\n",
       "      <td>5.92</td>\n",
       "      <td>1.0</td>\n",
       "      <td>0.0</td>\n",
       "      <td>1.0</td>\n",
       "      <td>0.0</td>\n",
       "      <td>0.0</td>\n",
       "      <td>0.0</td>\n",
       "    </tr>\n",
       "    <tr>\n",
       "      <th>182</th>\n",
       "      <td>15.81</td>\n",
       "      <td>3.16</td>\n",
       "      <td>1.0</td>\n",
       "      <td>1.0</td>\n",
       "      <td>1.0</td>\n",
       "      <td>0.0</td>\n",
       "      <td>0.0</td>\n",
       "      <td>0.0</td>\n",
       "    </tr>\n",
       "  </tbody>\n",
       "</table>\n",
       "<p>183 rows × 8 columns</p>\n",
       "</div>"
      ],
      "text/plain": [
       "     total_bill   tip  sex_Male  smoker_Yes  day_Sat  day_Sun  day_Thur  \\\n",
       "0         13.13  2.00       1.0         0.0      0.0      1.0       0.0   \n",
       "1         12.26  2.00       0.0         0.0      0.0      0.0       1.0   \n",
       "2         48.33  9.00       1.0         0.0      1.0      0.0       0.0   \n",
       "3         18.64  1.36       0.0         0.0      0.0      0.0       1.0   \n",
       "4         38.01  3.00       1.0         1.0      1.0      0.0       0.0   \n",
       "..          ...   ...       ...         ...      ...      ...       ...   \n",
       "178       28.15  3.00       1.0         1.0      1.0      0.0       0.0   \n",
       "179       18.28  4.00       1.0         0.0      0.0      0.0       1.0   \n",
       "180       30.46  2.00       1.0         1.0      0.0      1.0       0.0   \n",
       "181       29.03  5.92       1.0         0.0      1.0      0.0       0.0   \n",
       "182       15.81  3.16       1.0         1.0      1.0      0.0       0.0   \n",
       "\n",
       "     time_Lunch  \n",
       "0           0.0  \n",
       "1           1.0  \n",
       "2           0.0  \n",
       "3           1.0  \n",
       "4           0.0  \n",
       "..          ...  \n",
       "178         0.0  \n",
       "179         1.0  \n",
       "180         0.0  \n",
       "181         0.0  \n",
       "182         0.0  \n",
       "\n",
       "[183 rows x 8 columns]"
      ]
     },
     "execution_count": 19,
     "metadata": {},
     "output_type": "execute_result"
    }
   ],
   "source": [
    "X_train"
   ]
  },
  {
   "cell_type": "markdown",
   "id": "482c0dc5",
   "metadata": {},
   "source": [
    "### Трансоформируем X_test"
   ]
  },
  {
   "cell_type": "code",
   "execution_count": 20,
   "id": "02afef44",
   "metadata": {},
   "outputs": [],
   "source": [
    "cat_headings = X_test.select_dtypes(include=['object', 'category']).columns \n",
    "num_headings = X_test.columns.drop(cat_headings)\n",
    "\n",
    "num_cols = X_test[num_headings].reset_index(drop=True) \n",
    "cat_cols = X_test[cat_headings].reset_index(drop=True)\n",
    "\n",
    "cat_cols = ohe_encoder.transform(cat_cols).toarray() \n",
    "new_headings = ohe_encoder.get_feature_names_out() \n",
    "cat_cols = pd.DataFrame(cat_cols, columns=new_headings) \n",
    "\n",
    "X_test = pd.concat([num_cols, cat_cols], axis=1).copy()"
   ]
  },
  {
   "cell_type": "code",
   "execution_count": 21,
   "id": "80ff8b33",
   "metadata": {},
   "outputs": [
    {
     "data": {
      "text/html": [
       "<div>\n",
       "<style scoped>\n",
       "    .dataframe tbody tr th:only-of-type {\n",
       "        vertical-align: middle;\n",
       "    }\n",
       "\n",
       "    .dataframe tbody tr th {\n",
       "        vertical-align: top;\n",
       "    }\n",
       "\n",
       "    .dataframe thead th {\n",
       "        text-align: right;\n",
       "    }\n",
       "</style>\n",
       "<table border=\"1\" class=\"dataframe\">\n",
       "  <thead>\n",
       "    <tr style=\"text-align: right;\">\n",
       "      <th></th>\n",
       "      <th>total_bill</th>\n",
       "      <th>tip</th>\n",
       "      <th>sex_Male</th>\n",
       "      <th>smoker_Yes</th>\n",
       "      <th>day_Sat</th>\n",
       "      <th>day_Sun</th>\n",
       "      <th>day_Thur</th>\n",
       "      <th>time_Lunch</th>\n",
       "    </tr>\n",
       "  </thead>\n",
       "  <tbody>\n",
       "    <tr>\n",
       "      <th>0</th>\n",
       "      <td>13.51</td>\n",
       "      <td>2.00</td>\n",
       "      <td>1.0</td>\n",
       "      <td>1.0</td>\n",
       "      <td>0.0</td>\n",
       "      <td>0.0</td>\n",
       "      <td>1.0</td>\n",
       "      <td>1.0</td>\n",
       "    </tr>\n",
       "    <tr>\n",
       "      <th>1</th>\n",
       "      <td>32.90</td>\n",
       "      <td>3.11</td>\n",
       "      <td>1.0</td>\n",
       "      <td>1.0</td>\n",
       "      <td>0.0</td>\n",
       "      <td>1.0</td>\n",
       "      <td>0.0</td>\n",
       "      <td>0.0</td>\n",
       "    </tr>\n",
       "    <tr>\n",
       "      <th>2</th>\n",
       "      <td>11.24</td>\n",
       "      <td>1.76</td>\n",
       "      <td>1.0</td>\n",
       "      <td>1.0</td>\n",
       "      <td>1.0</td>\n",
       "      <td>0.0</td>\n",
       "      <td>0.0</td>\n",
       "      <td>0.0</td>\n",
       "    </tr>\n",
       "    <tr>\n",
       "      <th>3</th>\n",
       "      <td>15.77</td>\n",
       "      <td>2.23</td>\n",
       "      <td>0.0</td>\n",
       "      <td>0.0</td>\n",
       "      <td>1.0</td>\n",
       "      <td>0.0</td>\n",
       "      <td>0.0</td>\n",
       "      <td>0.0</td>\n",
       "    </tr>\n",
       "    <tr>\n",
       "      <th>4</th>\n",
       "      <td>10.33</td>\n",
       "      <td>2.00</td>\n",
       "      <td>0.0</td>\n",
       "      <td>0.0</td>\n",
       "      <td>0.0</td>\n",
       "      <td>0.0</td>\n",
       "      <td>1.0</td>\n",
       "      <td>1.0</td>\n",
       "    </tr>\n",
       "    <tr>\n",
       "      <th>...</th>\n",
       "      <td>...</td>\n",
       "      <td>...</td>\n",
       "      <td>...</td>\n",
       "      <td>...</td>\n",
       "      <td>...</td>\n",
       "      <td>...</td>\n",
       "      <td>...</td>\n",
       "      <td>...</td>\n",
       "    </tr>\n",
       "    <tr>\n",
       "      <th>56</th>\n",
       "      <td>16.27</td>\n",
       "      <td>2.50</td>\n",
       "      <td>0.0</td>\n",
       "      <td>1.0</td>\n",
       "      <td>0.0</td>\n",
       "      <td>0.0</td>\n",
       "      <td>0.0</td>\n",
       "      <td>1.0</td>\n",
       "    </tr>\n",
       "    <tr>\n",
       "      <th>57</th>\n",
       "      <td>7.56</td>\n",
       "      <td>1.44</td>\n",
       "      <td>1.0</td>\n",
       "      <td>0.0</td>\n",
       "      <td>0.0</td>\n",
       "      <td>0.0</td>\n",
       "      <td>1.0</td>\n",
       "      <td>1.0</td>\n",
       "    </tr>\n",
       "    <tr>\n",
       "      <th>58</th>\n",
       "      <td>14.07</td>\n",
       "      <td>2.50</td>\n",
       "      <td>1.0</td>\n",
       "      <td>0.0</td>\n",
       "      <td>0.0</td>\n",
       "      <td>1.0</td>\n",
       "      <td>0.0</td>\n",
       "      <td>0.0</td>\n",
       "    </tr>\n",
       "    <tr>\n",
       "      <th>59</th>\n",
       "      <td>16.47</td>\n",
       "      <td>3.23</td>\n",
       "      <td>0.0</td>\n",
       "      <td>1.0</td>\n",
       "      <td>0.0</td>\n",
       "      <td>0.0</td>\n",
       "      <td>1.0</td>\n",
       "      <td>1.0</td>\n",
       "    </tr>\n",
       "    <tr>\n",
       "      <th>60</th>\n",
       "      <td>45.35</td>\n",
       "      <td>3.50</td>\n",
       "      <td>1.0</td>\n",
       "      <td>1.0</td>\n",
       "      <td>0.0</td>\n",
       "      <td>1.0</td>\n",
       "      <td>0.0</td>\n",
       "      <td>0.0</td>\n",
       "    </tr>\n",
       "  </tbody>\n",
       "</table>\n",
       "<p>61 rows × 8 columns</p>\n",
       "</div>"
      ],
      "text/plain": [
       "    total_bill   tip  sex_Male  smoker_Yes  day_Sat  day_Sun  day_Thur  \\\n",
       "0        13.51  2.00       1.0         1.0      0.0      0.0       1.0   \n",
       "1        32.90  3.11       1.0         1.0      0.0      1.0       0.0   \n",
       "2        11.24  1.76       1.0         1.0      1.0      0.0       0.0   \n",
       "3        15.77  2.23       0.0         0.0      1.0      0.0       0.0   \n",
       "4        10.33  2.00       0.0         0.0      0.0      0.0       1.0   \n",
       "..         ...   ...       ...         ...      ...      ...       ...   \n",
       "56       16.27  2.50       0.0         1.0      0.0      0.0       0.0   \n",
       "57        7.56  1.44       1.0         0.0      0.0      0.0       1.0   \n",
       "58       14.07  2.50       1.0         0.0      0.0      1.0       0.0   \n",
       "59       16.47  3.23       0.0         1.0      0.0      0.0       1.0   \n",
       "60       45.35  3.50       1.0         1.0      0.0      1.0       0.0   \n",
       "\n",
       "    time_Lunch  \n",
       "0          1.0  \n",
       "1          0.0  \n",
       "2          0.0  \n",
       "3          0.0  \n",
       "4          1.0  \n",
       "..         ...  \n",
       "56         1.0  \n",
       "57         1.0  \n",
       "58         0.0  \n",
       "59         1.0  \n",
       "60         0.0  \n",
       "\n",
       "[61 rows x 8 columns]"
      ]
     },
     "execution_count": 21,
     "metadata": {},
     "output_type": "execute_result"
    }
   ],
   "source": [
    "X_test"
   ]
  },
  {
   "cell_type": "markdown",
   "id": "66ad0a64",
   "metadata": {},
   "source": [
    "<a id='part_24'></a>\n",
    "## 2.4 Ordinal Encoder [▴](#head)"
   ]
  },
  {
   "cell_type": "markdown",
   "id": "7699bc76",
   "metadata": {},
   "source": [
    "Кодировать признаки стоит только после деления на выборки, иначе возможно утечка."
   ]
  },
  {
   "cell_type": "code",
   "execution_count": 22,
   "id": "16b23222",
   "metadata": {},
   "outputs": [],
   "source": [
    "from sklearn.preprocessing import OrdinalEncoder"
   ]
  },
  {
   "cell_type": "code",
   "execution_count": 23,
   "id": "04dd615c",
   "metadata": {},
   "outputs": [],
   "source": [
    "X_train, X_test, y_train, y_test = train_test_split(X, y, \n",
    "                                                    random_state=12345, \n",
    "                                                    test_size=0.25,\n",
    "                                                    stratify=y)"
   ]
  },
  {
   "cell_type": "markdown",
   "id": "9055663b",
   "metadata": {},
   "source": [
    "### Обучаем Ordinal"
   ]
  },
  {
   "cell_type": "code",
   "execution_count": 24,
   "id": "5c909926",
   "metadata": {},
   "outputs": [
    {
     "data": {
      "text/plain": [
       "OrdinalEncoder()"
      ]
     },
     "execution_count": 24,
     "metadata": {},
     "output_type": "execute_result"
    }
   ],
   "source": [
    "ordinal_encoder = OrdinalEncoder()\n",
    "\n",
    "# получаем список заголовков столбцов с текстовыми данными\n",
    "# получаем список заголовков столбцов с числовыми данными\n",
    "cat_headings = X_train.select_dtypes(include=['object', 'category']).columns \n",
    "num_headings = X_train.columns.drop(cat_headings)\n",
    "\n",
    "# оставим в переменных столбцы с числовыми и текстовыми даннымми\n",
    "# и сбрасываем индекс для корректного конкатенирования\n",
    "num_cols = X_train[num_headings].reset_index(drop=True) \n",
    "cat_cols = X_train[cat_headings].reset_index(drop=True)\n",
    "\n",
    "ordinal_encoder.fit(cat_cols) # обучаем encoder"
   ]
  },
  {
   "cell_type": "markdown",
   "id": "d73ad2b5",
   "metadata": {},
   "source": [
    "### Трансоформируем X_train"
   ]
  },
  {
   "cell_type": "code",
   "execution_count": 25,
   "id": "22d1e4de",
   "metadata": {},
   "outputs": [],
   "source": [
    "cat_cols = ordinal_encoder.transform(cat_cols) # масштабируем признаки\n",
    "# после преобразования получится numpy массив\n",
    "\n",
    "# восстанавливаем датафрейм с категориальными признаками\n",
    "# только теперь они закодированы\n",
    "cat_cols = pd.DataFrame(cat_cols, columns=cat_headings) "
   ]
  },
  {
   "cell_type": "code",
   "execution_count": 26,
   "id": "8f5aa74c",
   "metadata": {},
   "outputs": [],
   "source": [
    "# сшиваем обратно нашу тренировочную выборку\n",
    "X_train = pd.concat([num_cols, cat_cols], axis=1).copy()"
   ]
  },
  {
   "cell_type": "code",
   "execution_count": 27,
   "id": "b0019a31",
   "metadata": {},
   "outputs": [
    {
     "data": {
      "text/html": [
       "<div>\n",
       "<style scoped>\n",
       "    .dataframe tbody tr th:only-of-type {\n",
       "        vertical-align: middle;\n",
       "    }\n",
       "\n",
       "    .dataframe tbody tr th {\n",
       "        vertical-align: top;\n",
       "    }\n",
       "\n",
       "    .dataframe thead th {\n",
       "        text-align: right;\n",
       "    }\n",
       "</style>\n",
       "<table border=\"1\" class=\"dataframe\">\n",
       "  <thead>\n",
       "    <tr style=\"text-align: right;\">\n",
       "      <th></th>\n",
       "      <th>total_bill</th>\n",
       "      <th>tip</th>\n",
       "      <th>sex</th>\n",
       "      <th>smoker</th>\n",
       "      <th>day</th>\n",
       "      <th>time</th>\n",
       "    </tr>\n",
       "  </thead>\n",
       "  <tbody>\n",
       "    <tr>\n",
       "      <th>0</th>\n",
       "      <td>13.13</td>\n",
       "      <td>2.00</td>\n",
       "      <td>1.0</td>\n",
       "      <td>0.0</td>\n",
       "      <td>2.0</td>\n",
       "      <td>0.0</td>\n",
       "    </tr>\n",
       "    <tr>\n",
       "      <th>1</th>\n",
       "      <td>12.26</td>\n",
       "      <td>2.00</td>\n",
       "      <td>0.0</td>\n",
       "      <td>0.0</td>\n",
       "      <td>3.0</td>\n",
       "      <td>1.0</td>\n",
       "    </tr>\n",
       "    <tr>\n",
       "      <th>2</th>\n",
       "      <td>48.33</td>\n",
       "      <td>9.00</td>\n",
       "      <td>1.0</td>\n",
       "      <td>0.0</td>\n",
       "      <td>1.0</td>\n",
       "      <td>0.0</td>\n",
       "    </tr>\n",
       "    <tr>\n",
       "      <th>3</th>\n",
       "      <td>18.64</td>\n",
       "      <td>1.36</td>\n",
       "      <td>0.0</td>\n",
       "      <td>0.0</td>\n",
       "      <td>3.0</td>\n",
       "      <td>1.0</td>\n",
       "    </tr>\n",
       "    <tr>\n",
       "      <th>4</th>\n",
       "      <td>38.01</td>\n",
       "      <td>3.00</td>\n",
       "      <td>1.0</td>\n",
       "      <td>1.0</td>\n",
       "      <td>1.0</td>\n",
       "      <td>0.0</td>\n",
       "    </tr>\n",
       "    <tr>\n",
       "      <th>...</th>\n",
       "      <td>...</td>\n",
       "      <td>...</td>\n",
       "      <td>...</td>\n",
       "      <td>...</td>\n",
       "      <td>...</td>\n",
       "      <td>...</td>\n",
       "    </tr>\n",
       "    <tr>\n",
       "      <th>178</th>\n",
       "      <td>28.15</td>\n",
       "      <td>3.00</td>\n",
       "      <td>1.0</td>\n",
       "      <td>1.0</td>\n",
       "      <td>1.0</td>\n",
       "      <td>0.0</td>\n",
       "    </tr>\n",
       "    <tr>\n",
       "      <th>179</th>\n",
       "      <td>18.28</td>\n",
       "      <td>4.00</td>\n",
       "      <td>1.0</td>\n",
       "      <td>0.0</td>\n",
       "      <td>3.0</td>\n",
       "      <td>1.0</td>\n",
       "    </tr>\n",
       "    <tr>\n",
       "      <th>180</th>\n",
       "      <td>30.46</td>\n",
       "      <td>2.00</td>\n",
       "      <td>1.0</td>\n",
       "      <td>1.0</td>\n",
       "      <td>2.0</td>\n",
       "      <td>0.0</td>\n",
       "    </tr>\n",
       "    <tr>\n",
       "      <th>181</th>\n",
       "      <td>29.03</td>\n",
       "      <td>5.92</td>\n",
       "      <td>1.0</td>\n",
       "      <td>0.0</td>\n",
       "      <td>1.0</td>\n",
       "      <td>0.0</td>\n",
       "    </tr>\n",
       "    <tr>\n",
       "      <th>182</th>\n",
       "      <td>15.81</td>\n",
       "      <td>3.16</td>\n",
       "      <td>1.0</td>\n",
       "      <td>1.0</td>\n",
       "      <td>1.0</td>\n",
       "      <td>0.0</td>\n",
       "    </tr>\n",
       "  </tbody>\n",
       "</table>\n",
       "<p>183 rows × 6 columns</p>\n",
       "</div>"
      ],
      "text/plain": [
       "     total_bill   tip  sex  smoker  day  time\n",
       "0         13.13  2.00  1.0     0.0  2.0   0.0\n",
       "1         12.26  2.00  0.0     0.0  3.0   1.0\n",
       "2         48.33  9.00  1.0     0.0  1.0   0.0\n",
       "3         18.64  1.36  0.0     0.0  3.0   1.0\n",
       "4         38.01  3.00  1.0     1.0  1.0   0.0\n",
       "..          ...   ...  ...     ...  ...   ...\n",
       "178       28.15  3.00  1.0     1.0  1.0   0.0\n",
       "179       18.28  4.00  1.0     0.0  3.0   1.0\n",
       "180       30.46  2.00  1.0     1.0  2.0   0.0\n",
       "181       29.03  5.92  1.0     0.0  1.0   0.0\n",
       "182       15.81  3.16  1.0     1.0  1.0   0.0\n",
       "\n",
       "[183 rows x 6 columns]"
      ]
     },
     "execution_count": 27,
     "metadata": {},
     "output_type": "execute_result"
    }
   ],
   "source": [
    "X_train"
   ]
  },
  {
   "cell_type": "markdown",
   "id": "288de364",
   "metadata": {},
   "source": [
    "### Трансоформируем X_test"
   ]
  },
  {
   "cell_type": "code",
   "execution_count": 28,
   "id": "e52f5011",
   "metadata": {},
   "outputs": [],
   "source": [
    "cat_headings = X_test.select_dtypes(include=['object', 'category']).columns \n",
    "num_headings = X_test.columns.drop(cat_headings)\n",
    "\n",
    "num_cols = X_test[num_headings].reset_index(drop=True) \n",
    "cat_cols = X_test[cat_headings].reset_index(drop=True)\n",
    "\n",
    "cat_cols = ordinal_encoder.transform(cat_cols) # масштабируем признаки\n",
    "cat_cols = pd.DataFrame(cat_cols, columns=cat_headings) \n",
    "\n",
    "X_test = pd.concat([num_cols, cat_cols], axis=1).copy()"
   ]
  },
  {
   "cell_type": "code",
   "execution_count": 29,
   "id": "add22aec",
   "metadata": {
    "scrolled": false
   },
   "outputs": [
    {
     "data": {
      "text/html": [
       "<div>\n",
       "<style scoped>\n",
       "    .dataframe tbody tr th:only-of-type {\n",
       "        vertical-align: middle;\n",
       "    }\n",
       "\n",
       "    .dataframe tbody tr th {\n",
       "        vertical-align: top;\n",
       "    }\n",
       "\n",
       "    .dataframe thead th {\n",
       "        text-align: right;\n",
       "    }\n",
       "</style>\n",
       "<table border=\"1\" class=\"dataframe\">\n",
       "  <thead>\n",
       "    <tr style=\"text-align: right;\">\n",
       "      <th></th>\n",
       "      <th>total_bill</th>\n",
       "      <th>tip</th>\n",
       "      <th>sex</th>\n",
       "      <th>smoker</th>\n",
       "      <th>day</th>\n",
       "      <th>time</th>\n",
       "    </tr>\n",
       "  </thead>\n",
       "  <tbody>\n",
       "    <tr>\n",
       "      <th>0</th>\n",
       "      <td>13.51</td>\n",
       "      <td>2.00</td>\n",
       "      <td>1.0</td>\n",
       "      <td>1.0</td>\n",
       "      <td>3.0</td>\n",
       "      <td>1.0</td>\n",
       "    </tr>\n",
       "    <tr>\n",
       "      <th>1</th>\n",
       "      <td>32.90</td>\n",
       "      <td>3.11</td>\n",
       "      <td>1.0</td>\n",
       "      <td>1.0</td>\n",
       "      <td>2.0</td>\n",
       "      <td>0.0</td>\n",
       "    </tr>\n",
       "    <tr>\n",
       "      <th>2</th>\n",
       "      <td>11.24</td>\n",
       "      <td>1.76</td>\n",
       "      <td>1.0</td>\n",
       "      <td>1.0</td>\n",
       "      <td>1.0</td>\n",
       "      <td>0.0</td>\n",
       "    </tr>\n",
       "    <tr>\n",
       "      <th>3</th>\n",
       "      <td>15.77</td>\n",
       "      <td>2.23</td>\n",
       "      <td>0.0</td>\n",
       "      <td>0.0</td>\n",
       "      <td>1.0</td>\n",
       "      <td>0.0</td>\n",
       "    </tr>\n",
       "    <tr>\n",
       "      <th>4</th>\n",
       "      <td>10.33</td>\n",
       "      <td>2.00</td>\n",
       "      <td>0.0</td>\n",
       "      <td>0.0</td>\n",
       "      <td>3.0</td>\n",
       "      <td>1.0</td>\n",
       "    </tr>\n",
       "    <tr>\n",
       "      <th>...</th>\n",
       "      <td>...</td>\n",
       "      <td>...</td>\n",
       "      <td>...</td>\n",
       "      <td>...</td>\n",
       "      <td>...</td>\n",
       "      <td>...</td>\n",
       "    </tr>\n",
       "    <tr>\n",
       "      <th>56</th>\n",
       "      <td>16.27</td>\n",
       "      <td>2.50</td>\n",
       "      <td>0.0</td>\n",
       "      <td>1.0</td>\n",
       "      <td>0.0</td>\n",
       "      <td>1.0</td>\n",
       "    </tr>\n",
       "    <tr>\n",
       "      <th>57</th>\n",
       "      <td>7.56</td>\n",
       "      <td>1.44</td>\n",
       "      <td>1.0</td>\n",
       "      <td>0.0</td>\n",
       "      <td>3.0</td>\n",
       "      <td>1.0</td>\n",
       "    </tr>\n",
       "    <tr>\n",
       "      <th>58</th>\n",
       "      <td>14.07</td>\n",
       "      <td>2.50</td>\n",
       "      <td>1.0</td>\n",
       "      <td>0.0</td>\n",
       "      <td>2.0</td>\n",
       "      <td>0.0</td>\n",
       "    </tr>\n",
       "    <tr>\n",
       "      <th>59</th>\n",
       "      <td>16.47</td>\n",
       "      <td>3.23</td>\n",
       "      <td>0.0</td>\n",
       "      <td>1.0</td>\n",
       "      <td>3.0</td>\n",
       "      <td>1.0</td>\n",
       "    </tr>\n",
       "    <tr>\n",
       "      <th>60</th>\n",
       "      <td>45.35</td>\n",
       "      <td>3.50</td>\n",
       "      <td>1.0</td>\n",
       "      <td>1.0</td>\n",
       "      <td>2.0</td>\n",
       "      <td>0.0</td>\n",
       "    </tr>\n",
       "  </tbody>\n",
       "</table>\n",
       "<p>61 rows × 6 columns</p>\n",
       "</div>"
      ],
      "text/plain": [
       "    total_bill   tip  sex  smoker  day  time\n",
       "0        13.51  2.00  1.0     1.0  3.0   1.0\n",
       "1        32.90  3.11  1.0     1.0  2.0   0.0\n",
       "2        11.24  1.76  1.0     1.0  1.0   0.0\n",
       "3        15.77  2.23  0.0     0.0  1.0   0.0\n",
       "4        10.33  2.00  0.0     0.0  3.0   1.0\n",
       "..         ...   ...  ...     ...  ...   ...\n",
       "56       16.27  2.50  0.0     1.0  0.0   1.0\n",
       "57        7.56  1.44  1.0     0.0  3.0   1.0\n",
       "58       14.07  2.50  1.0     0.0  2.0   0.0\n",
       "59       16.47  3.23  0.0     1.0  3.0   1.0\n",
       "60       45.35  3.50  1.0     1.0  2.0   0.0\n",
       "\n",
       "[61 rows x 6 columns]"
      ]
     },
     "execution_count": 29,
     "metadata": {},
     "output_type": "execute_result"
    }
   ],
   "source": [
    "X_test"
   ]
  },
  {
   "cell_type": "markdown",
   "id": "6b0aa852",
   "metadata": {},
   "source": [
    "<a id='part_25'></a>\n",
    "## 2.5 Pipeline [▴](#head)"
   ]
  },
  {
   "cell_type": "markdown",
   "id": "a560a399",
   "metadata": {},
   "source": [
    "`Pipeline` нужен для оптимизации работы с подготовкой датасета к обучению и заброской в модель.\n",
    "\n",
    "На него ложатся почти любые классы, которые имеют методы `.fit` `.transform` `.predict`"
   ]
  },
  {
   "cell_type": "markdown",
   "id": "e67d2e97",
   "metadata": {},
   "source": [
    "### Загрузка данных"
   ]
  },
  {
   "cell_type": "markdown",
   "id": "69e6f6b0",
   "metadata": {},
   "source": [
    "Тут просто грузим датасет для примера"
   ]
  },
  {
   "cell_type": "code",
   "execution_count": 30,
   "id": "7b6f2aa3",
   "metadata": {},
   "outputs": [
    {
     "data": {
      "text/html": [
       "<div>\n",
       "<style scoped>\n",
       "    .dataframe tbody tr th:only-of-type {\n",
       "        vertical-align: middle;\n",
       "    }\n",
       "\n",
       "    .dataframe tbody tr th {\n",
       "        vertical-align: top;\n",
       "    }\n",
       "\n",
       "    .dataframe thead th {\n",
       "        text-align: right;\n",
       "    }\n",
       "</style>\n",
       "<table border=\"1\" class=\"dataframe\">\n",
       "  <thead>\n",
       "    <tr style=\"text-align: right;\">\n",
       "      <th></th>\n",
       "      <th>ClientPeriod</th>\n",
       "      <th>MonthlySpending</th>\n",
       "      <th>TotalSpent</th>\n",
       "      <th>Sex</th>\n",
       "      <th>IsSeniorCitizen</th>\n",
       "      <th>HasPartner</th>\n",
       "      <th>HasChild</th>\n",
       "      <th>HasPhoneService</th>\n",
       "      <th>HasMultiplePhoneNumbers</th>\n",
       "      <th>HasInternetService</th>\n",
       "      <th>HasOnlineSecurityService</th>\n",
       "      <th>HasOnlineBackup</th>\n",
       "      <th>HasDeviceProtection</th>\n",
       "      <th>HasTechSupportAccess</th>\n",
       "      <th>HasOnlineTV</th>\n",
       "      <th>HasMovieSubscription</th>\n",
       "      <th>HasContractPhone</th>\n",
       "      <th>IsBillingPaperless</th>\n",
       "      <th>PaymentMethod</th>\n",
       "      <th>Churn</th>\n",
       "    </tr>\n",
       "  </thead>\n",
       "  <tbody>\n",
       "    <tr>\n",
       "      <th>0</th>\n",
       "      <td>55</td>\n",
       "      <td>19.50</td>\n",
       "      <td>1026.35</td>\n",
       "      <td>Male</td>\n",
       "      <td>0</td>\n",
       "      <td>Yes</td>\n",
       "      <td>Yes</td>\n",
       "      <td>Yes</td>\n",
       "      <td>No</td>\n",
       "      <td>No</td>\n",
       "      <td>No internet service</td>\n",
       "      <td>No internet service</td>\n",
       "      <td>No internet service</td>\n",
       "      <td>No internet service</td>\n",
       "      <td>No internet service</td>\n",
       "      <td>No internet service</td>\n",
       "      <td>One year</td>\n",
       "      <td>No</td>\n",
       "      <td>Mailed check</td>\n",
       "      <td>0</td>\n",
       "    </tr>\n",
       "    <tr>\n",
       "      <th>1</th>\n",
       "      <td>72</td>\n",
       "      <td>25.85</td>\n",
       "      <td>1872.20</td>\n",
       "      <td>Male</td>\n",
       "      <td>0</td>\n",
       "      <td>Yes</td>\n",
       "      <td>No</td>\n",
       "      <td>Yes</td>\n",
       "      <td>Yes</td>\n",
       "      <td>No</td>\n",
       "      <td>No internet service</td>\n",
       "      <td>No internet service</td>\n",
       "      <td>No internet service</td>\n",
       "      <td>No internet service</td>\n",
       "      <td>No internet service</td>\n",
       "      <td>No internet service</td>\n",
       "      <td>Two year</td>\n",
       "      <td>No</td>\n",
       "      <td>Credit card (automatic)</td>\n",
       "      <td>0</td>\n",
       "    </tr>\n",
       "    <tr>\n",
       "      <th>2</th>\n",
       "      <td>1</td>\n",
       "      <td>75.90</td>\n",
       "      <td>75.90</td>\n",
       "      <td>Male</td>\n",
       "      <td>0</td>\n",
       "      <td>No</td>\n",
       "      <td>No</td>\n",
       "      <td>Yes</td>\n",
       "      <td>No</td>\n",
       "      <td>Fiber optic</td>\n",
       "      <td>No</td>\n",
       "      <td>No</td>\n",
       "      <td>No</td>\n",
       "      <td>Yes</td>\n",
       "      <td>No</td>\n",
       "      <td>No</td>\n",
       "      <td>Month-to-month</td>\n",
       "      <td>Yes</td>\n",
       "      <td>Electronic check</td>\n",
       "      <td>1</td>\n",
       "    </tr>\n",
       "    <tr>\n",
       "      <th>3</th>\n",
       "      <td>32</td>\n",
       "      <td>79.30</td>\n",
       "      <td>2570.00</td>\n",
       "      <td>Female</td>\n",
       "      <td>1</td>\n",
       "      <td>Yes</td>\n",
       "      <td>No</td>\n",
       "      <td>Yes</td>\n",
       "      <td>Yes</td>\n",
       "      <td>Fiber optic</td>\n",
       "      <td>No</td>\n",
       "      <td>No</td>\n",
       "      <td>Yes</td>\n",
       "      <td>No</td>\n",
       "      <td>No</td>\n",
       "      <td>No</td>\n",
       "      <td>Month-to-month</td>\n",
       "      <td>No</td>\n",
       "      <td>Mailed check</td>\n",
       "      <td>0</td>\n",
       "    </tr>\n",
       "    <tr>\n",
       "      <th>4</th>\n",
       "      <td>60</td>\n",
       "      <td>115.25</td>\n",
       "      <td>6758.45</td>\n",
       "      <td>Female</td>\n",
       "      <td>0</td>\n",
       "      <td>Yes</td>\n",
       "      <td>Yes</td>\n",
       "      <td>Yes</td>\n",
       "      <td>Yes</td>\n",
       "      <td>Fiber optic</td>\n",
       "      <td>Yes</td>\n",
       "      <td>Yes</td>\n",
       "      <td>Yes</td>\n",
       "      <td>Yes</td>\n",
       "      <td>Yes</td>\n",
       "      <td>Yes</td>\n",
       "      <td>Two year</td>\n",
       "      <td>No</td>\n",
       "      <td>Credit card (automatic)</td>\n",
       "      <td>0</td>\n",
       "    </tr>\n",
       "  </tbody>\n",
       "</table>\n",
       "</div>"
      ],
      "text/plain": [
       "   ClientPeriod  MonthlySpending  TotalSpent     Sex  IsSeniorCitizen  \\\n",
       "0            55            19.50     1026.35    Male                0   \n",
       "1            72            25.85     1872.20    Male                0   \n",
       "2             1            75.90       75.90    Male                0   \n",
       "3            32            79.30     2570.00  Female                1   \n",
       "4            60           115.25     6758.45  Female                0   \n",
       "\n",
       "  HasPartner HasChild HasPhoneService HasMultiplePhoneNumbers  \\\n",
       "0        Yes      Yes             Yes                      No   \n",
       "1        Yes       No             Yes                     Yes   \n",
       "2         No       No             Yes                      No   \n",
       "3        Yes       No             Yes                     Yes   \n",
       "4        Yes      Yes             Yes                     Yes   \n",
       "\n",
       "  HasInternetService HasOnlineSecurityService      HasOnlineBackup  \\\n",
       "0                 No      No internet service  No internet service   \n",
       "1                 No      No internet service  No internet service   \n",
       "2        Fiber optic                       No                   No   \n",
       "3        Fiber optic                       No                   No   \n",
       "4        Fiber optic                      Yes                  Yes   \n",
       "\n",
       "   HasDeviceProtection HasTechSupportAccess          HasOnlineTV  \\\n",
       "0  No internet service  No internet service  No internet service   \n",
       "1  No internet service  No internet service  No internet service   \n",
       "2                   No                  Yes                   No   \n",
       "3                  Yes                   No                   No   \n",
       "4                  Yes                  Yes                  Yes   \n",
       "\n",
       "  HasMovieSubscription HasContractPhone IsBillingPaperless  \\\n",
       "0  No internet service         One year                 No   \n",
       "1  No internet service         Two year                 No   \n",
       "2                   No   Month-to-month                Yes   \n",
       "3                   No   Month-to-month                 No   \n",
       "4                  Yes         Two year                 No   \n",
       "\n",
       "             PaymentMethod  Churn  \n",
       "0             Mailed check      0  \n",
       "1  Credit card (automatic)      0  \n",
       "2         Electronic check      1  \n",
       "3             Mailed check      0  \n",
       "4  Credit card (automatic)      0  "
      ]
     },
     "metadata": {},
     "output_type": "display_data"
    }
   ],
   "source": [
    "from sklearn.model_selection import train_test_split\n",
    "import pandas as pd\n",
    "import seaborn as sns\n",
    "import matplotlib.pyplot as plt\n",
    "\n",
    "df = pd.read_csv('datasets/train.csv') # загружаем датасет\n",
    "df['TotalSpent'] = pd.to_numeric(df['TotalSpent'], errors='coerce') # в датасете есть ошибки правим их\n",
    "df = df.dropna() # дропаем NaN\n",
    "\n",
    "X = df.drop(['Churn'], axis=1)\n",
    "y = df['Churn']\n",
    "\n",
    "X_train, X_test, y_train, y_test = train_test_split(X, y, \n",
    "                                                    random_state=12345, \n",
    "                                                    test_size=0.25,\n",
    "                                                    stratify=y)\n",
    "display(df.head())"
   ]
  },
  {
   "cell_type": "code",
   "execution_count": 31,
   "id": "13f44abf",
   "metadata": {},
   "outputs": [],
   "source": [
    "from sklearn.compose import ColumnTransformer\n",
    "from sklearn.metrics import roc_auc_score, accuracy_score\n",
    "from sklearn.pipeline import Pipeline\n",
    "from sklearn.linear_model import LogisticRegression\n",
    "from sklearn.preprocessing import StandardScaler, OneHotEncoder, OrdinalEncoder\n",
    "from sklearn.model_selection import GridSearchCV\n",
    "from sklearn.model_selection import StratifiedKFold, KFold # стратификация для работы в кросс-валидации"
   ]
  },
  {
   "cell_type": "markdown",
   "id": "94a3c903",
   "metadata": {},
   "source": [
    "### Инициируем модель для пайплайна"
   ]
  },
  {
   "cell_type": "markdown",
   "id": "99147462",
   "metadata": {},
   "source": [
    "Для пайплайна понадобится модель. Гиперпараметры можно указать сразу. \n",
    "\n",
    "Либо если `pipline` мы будем укладывать в `GridSearchCV`, то надо создать словарь с гиперпараметрами для модели."
   ]
  },
  {
   "cell_type": "code",
   "execution_count": 32,
   "id": "832155e3",
   "metadata": {},
   "outputs": [],
   "source": [
    "# инициируем модель\n",
    "# внутри модели гиперпараметры указываются как обычно\n",
    "model = LogisticRegression(solver='liblinear', random_state=12345)\n",
    "\n",
    "# создаем набор гиперпараметров для перебора в GridSearch\n",
    "# перед гиперпараметром обязательно добавлять префикс: model__\n",
    "# Этот префикс как имя указан в пайплайне и может быть любым, в данном примере именно model\n",
    "params = {'model__class_weight': ['balanced', None],\n",
    "          'model__C': [0.1, 0.5, 1, 1.5, 2, 5, 10, 50, 100]}"
   ]
  },
  {
   "cell_type": "markdown",
   "id": "50dc5aa9",
   "metadata": {},
   "source": [
    "### Формируем пайплайны и GridSearch"
   ]
  },
  {
   "cell_type": "markdown",
   "id": "96b3bbc4",
   "metadata": {},
   "source": [
    "Так как мы используем два кодировщика, их работу надо объединить перед тем как помещать в `pipeline`, для этого существует класс `ColumnTransformer` в библиотеке `sklearn`"
   ]
  },
  {
   "cell_type": "code",
   "execution_count": 33,
   "id": "262ed291",
   "metadata": {},
   "outputs": [],
   "source": [
    "# получаем список заголовков для текстовых и числовых столбцов (любым образом)\n",
    "cat_headings = X_train.select_dtypes(include=['object', 'category']).columns \n",
    "num_headings = X_train.columns.drop(cat_headings)\n",
    "\n",
    "# инициируем Скалер и Кодировщик\n",
    "scaler = StandardScaler()             # масштабирование признаков\n",
    "encoder = OneHotEncoder(drop=\"first\") # кодирование текстовых признаков\n",
    "# encoder = OrdinalEncoder()\n",
    "\n",
    "# инициируем класс ColumnTransformer для объединения\n",
    "# работы Стандарт Скалера и Кодировщика\n",
    "col_transformer = ColumnTransformer([(\"num\", scaler, num_headings),   # ([(имя, трансформер, список заголовков),\n",
    "                                     (\"cat\", encoder, cat_headings)]) #   (имя, трансформер, список заголовков)])\n",
    "\n",
    "# инициируем пайплайн\n",
    "pipe = Pipeline([(\"transformer\", col_transformer), # ([(имя, трансформер),\n",
    "                 (\"model\", model)])                #   (имя, модель)])\n",
    "\n",
    "# инициируем класс для стратификации в GridSearch\n",
    "skf = StratifiedKFold(n_splits=5)   # стратификация выборок при кроссвалидации \n",
    "                                    # (нужно только в задачах классификации)\n",
    "\n",
    "# инициируем ГридСерч с пайплайном\n",
    "gs = GridSearchCV(estimator=pipe,    # вместо модели указываем наш папйплайн\n",
    "                  param_grid=params, # параметры, тут все стандратно\n",
    "                  cv=skf, # количество фолдов в кросс валидации, \n",
    "                          # при классификации пользуемся StratifiedKFold(n_splits=)\n",
    "                          # чтобы выборки были стратифицированны\n",
    "                          # при регрессии просто ставим число\n",
    "                  scoring='roc_auc', # оценщик\n",
    "                  n_jobs=-1) # активируем все потоки и процессоры при расчетах"
   ]
  },
  {
   "cell_type": "markdown",
   "id": "b39819b6",
   "metadata": {},
   "source": [
    "### Обучаем GridSearch с пайплайном"
   ]
  },
  {
   "cell_type": "code",
   "execution_count": 34,
   "id": "e9d4653b",
   "metadata": {},
   "outputs": [
    {
     "name": "stdout",
     "output_type": "stream",
     "text": [
      "Обучено\n",
      "CPU times: total: 594 ms\n",
      "Wall time: 3.43 s\n"
     ]
    }
   ],
   "source": [
    "%%time\n",
    "gs.fit(X_train, y_train)\n",
    "print('Обучено')"
   ]
  },
  {
   "cell_type": "markdown",
   "id": "1125b302",
   "metadata": {},
   "source": [
    "### Собираем результаты"
   ]
  },
  {
   "cell_type": "code",
   "execution_count": 35,
   "id": "7b07b855",
   "metadata": {},
   "outputs": [],
   "source": [
    "best_pipe = gs.best_estimator_ # лучший пайплайн\n",
    "\n",
    "best_trans = gs.best_estimator_[0] # трансформер, для конвертации тестовой выборки\n",
    "best_model = gs.best_estimator_[1] # модель с лучшими гиперпараметрами\n",
    "best_score = gs.best_score_        # лучши результат, который дала лучшая модель\n",
    "best_params = gs.best_params_      # гиперпараметры модели, которая дала лучший результат"
   ]
  },
  {
   "cell_type": "code",
   "execution_count": 37,
   "id": "70be49ea",
   "metadata": {
    "scrolled": false
   },
   "outputs": [
    {
     "name": "stdout",
     "output_type": "stream",
     "text": [
      "LogisticRegression(C=5, random_state=12345, solver='liblinear')\n",
      "0.8412584399632367\n",
      "{'model__C': 5, 'model__class_weight': None}\n"
     ]
    }
   ],
   "source": [
    "print(best_model)\n",
    "print(best_score)\n",
    "print(best_params)"
   ]
  },
  {
   "cell_type": "markdown",
   "id": "76f99ba8",
   "metadata": {},
   "source": [
    "Если нужно достать заголовки трансформированной выборки с помощью `OneHotEncoder` то применить:"
   ]
  },
  {
   "cell_type": "code",
   "execution_count": 36,
   "id": "50bf3aba",
   "metadata": {},
   "outputs": [],
   "source": [
    "# transformed_headings = best_trans.get_feature_names_out()"
   ]
  },
  {
   "cell_type": "markdown",
   "id": "d2dd01a6",
   "metadata": {},
   "source": [
    "### Обучаем полученный пайплайн с лучшей моделью"
   ]
  },
  {
   "cell_type": "markdown",
   "id": "84ec96aa",
   "metadata": {},
   "source": [
    "Через трансформеры и модель так же можно прогнать по отдельности. Просто это 2 операции вместо одной."
   ]
  },
  {
   "cell_type": "code",
   "execution_count": 38,
   "id": "5b0e7691",
   "metadata": {},
   "outputs": [
    {
     "name": "stdout",
     "output_type": "stream",
     "text": [
      "Обучено\n"
     ]
    }
   ],
   "source": [
    "best_pipe.fit(X_train, y_train)\n",
    "print('Обучено')"
   ]
  },
  {
   "cell_type": "markdown",
   "id": "f4cc2f74",
   "metadata": {},
   "source": [
    "### Работаем с обученным пайплайном"
   ]
  },
  {
   "cell_type": "code",
   "execution_count": 39,
   "id": "980cbe68",
   "metadata": {},
   "outputs": [
    {
     "name": "stdout",
     "output_type": "stream",
     "text": [
      "Предсказания: [0 0 0 ... 1 0 0]\n",
      "Вероятности: [0.05473805 0.30493068 0.04417681 ... 0.68386038 0.34710905 0.00640595]\n",
      "ROC AUC: 0.8498773235746662\n",
      "accuracy: 0.8119787717968158\n"
     ]
    }
   ],
   "source": [
    "predicted = best_pipe.predict(X_test)\n",
    "proba = best_pipe.predict_proba(X_test)[:, 1]\n",
    "\n",
    "print('Предсказания:', predicted)\n",
    "print('Вероятности:', proba)\n",
    "print('ROC AUC:', roc_auc_score(y_test, proba))\n",
    "print('accuracy:', accuracy_score(y_test, predicted))"
   ]
  },
  {
   "cell_type": "markdown",
   "id": "0da0ce85",
   "metadata": {},
   "source": [
    "---"
   ]
  },
  {
   "cell_type": "markdown",
   "id": "d0c402b9",
   "metadata": {},
   "source": [
    "<a id='part_03'></a>\n",
    "# 3. Классификация [▴](#head)"
   ]
  },
  {
   "cell_type": "markdown",
   "id": "1cb73f21",
   "metadata": {},
   "source": [
    "<a id='part_31'></a>\n",
    "## 3.1 [▴](#head)"
   ]
  },
  {
   "cell_type": "markdown",
   "id": "e15c21a2",
   "metadata": {},
   "source": [
    "---"
   ]
  },
  {
   "cell_type": "markdown",
   "id": "baa0fe04",
   "metadata": {},
   "source": [
    "<a id='part_04'></a>\n",
    "# 4. Регрессия [▴](#head)"
   ]
  },
  {
   "cell_type": "markdown",
   "id": "1e732dd5",
   "metadata": {},
   "source": [
    "<a id='part_41'></a>\n",
    "## 4.1 [▴](#head)"
   ]
  },
  {
   "cell_type": "markdown",
   "id": "74dd4f80",
   "metadata": {},
   "source": [
    "---"
   ]
  },
  {
   "cell_type": "markdown",
   "id": "127755da",
   "metadata": {},
   "source": [
    "<a id='part_05'></a>\n",
    "# 5. Тексты [▴](#head)"
   ]
  },
  {
   "cell_type": "markdown",
   "id": "46004df7",
   "metadata": {},
   "source": [
    "<a id='part_51'></a>\n",
    "## 5.1 [▴](#head)"
   ]
  },
  {
   "cell_type": "markdown",
   "id": "75fce02b",
   "metadata": {},
   "source": [
    "Рекурентные нейронные сети умеют хорошо генерировать тексты, мат. формулы, а так же программный код"
   ]
  },
  {
   "cell_type": "code",
   "execution_count": null,
   "id": "3811d65a",
   "metadata": {},
   "outputs": [],
   "source": []
  },
  {
   "cell_type": "code",
   "execution_count": null,
   "id": "1ebe78d0",
   "metadata": {},
   "outputs": [],
   "source": []
  },
  {
   "cell_type": "code",
   "execution_count": null,
   "id": "37d35088",
   "metadata": {},
   "outputs": [],
   "source": []
  },
  {
   "cell_type": "markdown",
   "id": "d81d6360",
   "metadata": {},
   "source": [
    "---"
   ]
  },
  {
   "cell_type": "markdown",
   "id": "201b3d2b",
   "metadata": {},
   "source": [
    "<a id='part_06'></a>\n",
    "# 6. Зрение [▴](#head)"
   ]
  },
  {
   "cell_type": "markdown",
   "id": "74d90e7f",
   "metadata": {},
   "source": [
    "<a id='part_61'></a>\n",
    "## 6.1 [▴](#head)"
   ]
  },
  {
   "cell_type": "markdown",
   "id": "689df9cc",
   "metadata": {},
   "source": [
    "---"
   ]
  },
  {
   "cell_type": "markdown",
   "id": "4977f42f",
   "metadata": {},
   "source": [
    "<a id='part_07'></a>\n",
    "# 7. Обучение без учителя [▴](#head)"
   ]
  },
  {
   "cell_type": "markdown",
   "id": "fbfd08e2",
   "metadata": {},
   "source": [
    "<a id='part_71'></a>\n",
    "## 7.1 [▴](#head)"
   ]
  },
  {
   "cell_type": "markdown",
   "id": "e497aed5",
   "metadata": {},
   "source": [
    "---"
   ]
  }
 ],
 "metadata": {
  "kernelspec": {
   "display_name": "Python 3 (ipykernel)",
   "language": "python",
   "name": "python3"
  },
  "language_info": {
   "codemirror_mode": {
    "name": "ipython",
    "version": 3
   },
   "file_extension": ".py",
   "mimetype": "text/x-python",
   "name": "python",
   "nbconvert_exporter": "python",
   "pygments_lexer": "ipython3",
   "version": "3.9.12"
  }
 },
 "nbformat": 4,
 "nbformat_minor": 5
}
