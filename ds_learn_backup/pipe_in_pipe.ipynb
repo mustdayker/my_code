{
 "cells": [
  {
   "cell_type": "code",
   "execution_count": 1,
   "id": "de95a355",
   "metadata": {},
   "outputs": [
    {
     "ename": "NameError",
     "evalue": "name 'features' is not defined",
     "output_type": "error",
     "traceback": [
      "\u001b[1;31m---------------------------------------------------------------------------\u001b[0m",
      "\u001b[1;31mNameError\u001b[0m                                 Traceback (most recent call last)",
      "\u001b[1;32m~\\AppData\\Local\\Temp/ipykernel_15280/3769735115.py\u001b[0m in \u001b[0;36m<module>\u001b[1;34m\u001b[0m\n\u001b[0;32m      5\u001b[0m \u001b[1;33m\u001b[0m\u001b[0m\n\u001b[0;32m      6\u001b[0m \u001b[1;33m\u001b[0m\u001b[0m\n\u001b[1;32m----> 7\u001b[1;33m X_train, X_test, y_train, y_test = train_test_split(features, \n\u001b[0m\u001b[0;32m      8\u001b[0m                                                 \u001b[0mtarget\u001b[0m\u001b[1;33m,\u001b[0m\u001b[1;33m\u001b[0m\u001b[1;33m\u001b[0m\u001b[0m\n\u001b[0;32m      9\u001b[0m                                                 \u001b[0mtest_size\u001b[0m\u001b[1;33m=\u001b[0m\u001b[1;36m0.25\u001b[0m\u001b[1;33m,\u001b[0m\u001b[1;33m\u001b[0m\u001b[1;33m\u001b[0m\u001b[0m\n",
      "\u001b[1;31mNameError\u001b[0m: name 'features' is not defined"
     ]
    }
   ],
   "source": [
    "from sklearn.model_selection import train_test_split, GridSearchCV\n",
    "from sklearn.preprocessing import OneHotEncoder, StandardScaler\n",
    "from sklearn.compose import ColumnTransformer\n",
    "from sklearn.pipeline import Pipeline\n",
    "\n",
    "\n",
    "X_train, X_test, y_train, y_test = train_test_split(features, \n",
    "                                                target, \n",
    "                                                test_size=0.25, \n",
    "                                                random_state=281122, \n",
    "                                                stratify=(target)) #стратификация выборок по целевому признаку\n",
    "\n",
    "categorical_encoder = OneHotEncoder(drop=\"first\") # для категориальных\n",
    "numeric_transformer = StandardScaler() # для количественных\n",
    "\n",
    "#     создаем пайплайн для кодирования\n",
    "col_transformer = ColumnTransformer(\n",
    "    [   # тупо название / оhe                 #, categorical тут у меня   \n",
    "        (\"categorical\", categorical_transformer, [\"bla\", \"bla1\", \"bla2\"]), # я еще в начале проекта сделал списки с названиями \n",
    "        # название  / скеллер          # а тут , numeric                   # колонок categorical и numeric и задавал эти переменные\n",
    "        (\"numeric\", num_transformer, [\"notbla\", \"fkj\", \"skdfjk\"])\n",
    "    ])\n",
    "#     создаем пайплайн для грид сёрч\n",
    "pl = Pipeline(\n",
    "    [     # название    # предыдущий \"пайплайн для кодирования, где охе и скелер\"\n",
    "        (\"transformer\", col_transformer),\n",
    "        (\"model\", model) # тут ясно\n",
    "    ])\n",
    "#     кроссвалидация с подбором параметров\n",
    "grid_search = GridSearchCV(pl, params, cv=5, scoring=\"roc_auc\", n_jobs=-1) # пихаем пайплайн в гридсерч вместо модели\n",
    "model = grid_search.fit(X_train, y_train)\n",
    "#     в переменной модел лежит весь пайплайн в виде списка из column_transformera и модели\n",
    "      # model[0] - кодировщик\n",
    "      # model[1] - модель\n",
    "\n",
    "\n",
    "# примечания!!!!!\n",
    "\n",
    "# такие гиперпараметры:         # ибо можно задавать гиперы и для других участников пайплайна\n",
    "lgbm = LGBMClassifier(random_state=281122, silent=True, class_weight=\"balanced\")\n",
    "lgbm_hyper = {\"max_depth\": range(10, 26), \n",
    "              \"n_estimators\": range(100, 300, 25), \n",
    "              \"learning_rate\": [0.05, 0.1]}  \n",
    "# для пайплайна задаются вот так:   \n",
    "lgbm = LGBMClassifier(random_state=281122, silent=True, class_weight=\"balanced\")\n",
    "lgbm_hyper = {\"model__max_depth\": range(10, 26), \n",
    "              \"model__n_estimators\": range(100, 300, 25), \n",
    "              \"model__learning_rate\": [0.05, 0.1]}           \n",
    "# перед двойным андеоскором то название, которое ты указал для модели при объявлении пайплайна\n",
    "# и вот у тебя есть лучшая необученная модель, точнее лучший пайплайн. пихаем его в переменную как обычно\n",
    "best_model = model.best_estimator_\n",
    "# обучаем\n",
    "best_model.fit(X_train, y_train)\n",
    "# теперь, чтобы закодировать тестовую выборку берешь нулевой индекс, чтобы предсказывать - первый\n",
    "X_test = best_model[0].transform(X_test)\n",
    "positive_predictions = best_model[1].predict_proba(X_test)[:, 1]\n",
    "# и дальше считаешь рок-аук"
   ]
  },
  {
   "cell_type": "code",
   "execution_count": null,
   "id": "2d014dfa",
   "metadata": {},
   "outputs": [],
   "source": []
  }
 ],
 "metadata": {
  "kernelspec": {
   "display_name": "Python 3 (ipykernel)",
   "language": "python",
   "name": "python3"
  },
  "language_info": {
   "codemirror_mode": {
    "name": "ipython",
    "version": 3
   },
   "file_extension": ".py",
   "mimetype": "text/x-python",
   "name": "python",
   "nbconvert_exporter": "python",
   "pygments_lexer": "ipython3",
   "version": "3.9.12"
  }
 },
 "nbformat": 4,
 "nbformat_minor": 5
}
