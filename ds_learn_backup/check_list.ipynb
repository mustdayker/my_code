{
 "cells": [
  {
   "cell_type": "markdown",
   "id": "39e14672",
   "metadata": {},
   "source": [
    "<div class=\"alert alert-success\">\n",
    "    <h1>Структура проекта</h1>\n",
    "</div>"
   ]
  },
  {
   "cell_type": "markdown",
   "id": "78c300de",
   "metadata": {},
   "source": [
    "## Оглавление\n",
    "## Название проекта\n",
    "- **Вступление**\n",
    "    - краткое описание проекта\n",
    "- **Цель исследования**\n",
    "    - проверить гипотезы и т.п.\n",
    "    - перечислить их с кратким описанием\n",
    "- **Ход исследования**\n",
    "    - где получили данные\n",
    "    - какого они качества\n",
    "    - что предстоит сделать\n",
    "    - коротко описать этапы\n",
    "\n",
    "## 1. Обзор данных\n",
    "- Чтение данных\n",
    "- Выводы о качестве данных (пропущенные значения и тп)\n",
    "- Список столбцов с описанием (описать нарушения стиля)\n",
    "- Краткая сводка о типе данных\n",
    "- Выводы\n",
    "\n",
    "## 2. Предобработка данных\n",
    "- Пройтись по чек листу подробно комментируя шаги и код\n",
    "- **Выводы**\n",
    "    - описать найденные проблемы\n",
    "    - описать их решение и плюсы\n",
    "\n",
    "## 3. Обогащение данных\n",
    "\n",
    "\n",
    "## 4. Проверка гипотез\n",
    "- **Заголовок гипотезы**\n",
    "    - описание гипотезы и ее цель\n",
    "    - код\n",
    "    - краткие выводы по шагам\n",
    "    - общий вывод гипотезы\n",
    "\n",
    "\n",
    "## 5. Итоги исследования / Оформление результатов исследования\n",
    "- **Мы проверили гипотезы и установили**\n",
    "    - 1 гипотеза - вывод\n",
    "    - 2 гипотеза - вывод\n",
    "    - 3 гипотеза - вывод\n",
    "- **Общий вывод**"
   ]
  },
  {
   "cell_type": "markdown",
   "id": "41e9f583",
   "metadata": {},
   "source": [
    "<div class=\"alert alert-success\">\n",
    "    <h1>Чек лист DS</h1>\n",
    "</div>"
   ]
  },
  {
   "cell_type": "markdown",
   "id": "02dbfa3b",
   "metadata": {},
   "source": [
    "## Обзор данных\n",
    "- **Чтение файла**\n",
    "    - использовать `try... except` для чтения\n",
    "    - `pd.read_csv('path/filename.csv')`\n",
    "    - `pd_read_excel('path/filename.xlsx', sheet_name='name')`\n",
    "- **Обзор данных**\n",
    "    - `display(df.head())`\n",
    "    - `df.info()`\n",
    "    - `df.dtypes`\n",
    "    - `df.shape`\n",
    "    - `df.columns`\n",
    "    - `df.describe()`\n",
    "- **При выводе DF выводить имя DF**\n",
    "    - `df.name`\n",
    "\n",
    "## Предобработка данных\n",
    "\n",
    "### Разведка данных\n",
    "- [**Стиль заголовков**](#rename_01) - `df.rename()` или `df.columns.str`\n",
    "- **Подсчет пропусков**\n",
    "    - подсчитать количество пропусков - `df.isna().sum()`\n",
    "    - уникальные значения столбцов и их количество - `df['colname'].value_counts()`\n",
    "- **Определение типа пропусков**\n",
    "\n",
    "### Тип данных\n",
    "\n",
    "- `df['colname'] = pd.to_numeric(df['colname'], errors='coerce')`\n",
    "- `df['colname'] = df['colname'].astype('int')`\n",
    "- `df['newcolname'] = pd.to_datetime(df['colname'], format='%d.%m.%YZ%H:%M:%S')`\n",
    "- `df['newcolname'] = pd.DatetimeIndex(df['colname']).year`\n",
    "- `df['newcolname'] = pd.DatetimeIndex(df['colname']).month`\n",
    "- `df['newcolname'] = pd.DatetimeIndex(df['colname']).day`\n",
    "- `df['newcolname'] = pd.DatetimeIndex(df['colname']).hour`\n",
    "- `df['newcolname'] = pd.DatetimeIndex(df['colname']).second`\n",
    "\n",
    "### Пропуски\n",
    "- **Замена пропусков** - `df['colname'].fillna('value')`\n",
    "- **Удаление пропусков** - `df.dropna(subset=['colname1', 'colname2'])`\n",
    "- **Работа с пропусками в категориальных переменных** - `df.loc[df['colname'] == 'None', 'colname2'] = 'newvalue'`\n",
    "- **Работа с пропусками в количественных переменных**\n",
    "    - если требуется категоризировать тип пропусков - `category = df.loc[df.loc[:, 'colname'] = 'val']`\n",
    "    - замена близких значений (возраст) с помощью среднего - `df['colname'].mean()`\n",
    "    - замена значений с выбросами (зарплата) с помощью медианы - `df['colname'].median()`\n",
    "\n",
    "### Аномалии\n",
    "- **Определение странных значений**\n",
    "    - использовать `try-except` для подсчета бракованных значений в цикле\n",
    "    - использовать `try-except` для записи строк с ошибками\n",
    "\n",
    "\n",
    "\n",
    "\n",
    "### Дубликаты\n",
    "\n",
    "- **Поиск неявных дубликатов**\n",
    "    - Проверить глазами - `df['colname'].sort_values().unique()`\n",
    "    - Привести все символы в нижний регистр - `df['newcolname'] = df['colname'].str.lower()`\n",
    "- **Замена дубликатов**\n",
    "    - [Замена неявных дубликатов](#replace_duplicates_01) - `df['colname'].replace('wrong', right')`\n",
    "    - Чистим сами значения внутри таблицы, делая NaN - `df['colname'] = df['colname'].drop_duplicates()`\n",
    "    - Удалить эти строки - `df = df.dropna().reset_index(drop=True)`\n",
    "- **Подсчет явных дубликатов** - `df.duplicated().sum()`\n",
    "- **Удаление явных дубликатов** - `df.drop_duplicates().reset_index(drop=True)`\n",
    "\n",
    "### Категоризация данных\n",
    "- **Классификация по типу**\n",
    "    - разделить табличку на кусочки - `df_new = df[['colname1','colname2']]`\n",
    "    - создать табличку-словарь с уникальными значениями - `df_dict = df_new.drop_duplicates().reset_index(drop=True)`\n",
    "    - дропнуть из оригинального ДатаФрейма лишние столбцы - `df.drop(['colname1', 'colname2'], inplace=True)`\n",
    "- [**Категоризация данных**](#categorise_01)\n",
    "    - написать функцию которая возвращает определенное значение в зависимости от условий - `def funcname(cell):`\n",
    "    - создать новый столбец и применить написанную функцию - `df['newcolname'] = df['colname'].apply(funcname)`\n",
    "    - по надобности написать функцию, которая принимает всю строку - `def funcname(row)`\n",
    "    - функция может возвращать - `full_name = row['first_name'] + ' ' + row['last_name']`\n",
    "    - или работать по условию - `if row['colname1'] == 'val' and row['colname2'] > val2:`\n",
    "    - применить новую функцию к строке целиком - `df['newcolname'] = df.apply(funcname, axis=1)`\n",
    "    - посчитать новые категории - `df['newcolname'].value_counts()`\n",
    "- **Соединить данные**\n",
    "    - `df_new = df1.merge(df2, on='colname', how='left')`\n",
    "- **Создать сводные таблицы для наглядности**\n",
    "    - `df_pivot = df.pivot_table(index=['colname1', 'colname2'], columns='colname3', values='colname4', aggfunc='sum')`\n",
    "    - `df_pivot_with_reset_index = df_pivot.reset_index()`\n",
    "    - `df_grouped = df.groupby(['colname1','colname2','colname3']).agg({'colname4':'sum'})`\n",
    "    - `df_grouped['newcol'] = df['colname'] / val`\n",
    "\n",
    "\n"
   ]
  },
  {
   "cell_type": "markdown",
   "id": "029a87f9",
   "metadata": {},
   "source": [
    "<div class=\"alert alert-success\">\n",
    "    <h1>Полезные приемы</h1>\n",
    "</div>"
   ]
  },
  {
   "cell_type": "markdown",
   "id": "3f79d9c3",
   "metadata": {},
   "source": [
    "- **Фильтрация данных**\n",
    "    - `df[df['colname'] == 'val']`\n",
    "    - `df[df['colname'] == 'val'].count()`\n",
    "    - `df[df['colname'] == 'val']['colname'].count()`\n",
    "    - `df[df['colname'] != 'val']` - избавиться от ненужного значения\n",
    "- **Подсчет количества**\n",
    "    - `df.groupby('colname1')['colname2'].count()`\n",
    "    - `df.groupby('colname1')['colname2'].count().sort_values()`\n",
    "- **Количество элементов таблицы**\n",
    "    - `df.shape` - строки и столбцы\n",
    "    - `df.shape[0]` - строки\n",
    "    - `df.shape[1]` - столбцы\n",
    "- **Логическая индексация**\n",
    "    - `df.loc[df.loc[:,'colname'] == 'val']`\n",
    "    - `df.loc[df.loc[:,'colname'] == 'val']['В']`\n",
    "    - `df.loc[df.loc[:,'colname'] == 'val']['В'].count()`\n",
    "- **Логическая индексация**\n",
    "    - `df.loc[(df['colname1'] == 'val1') & (df['colname2'] == 'val2')]`\n",
    "    - `df.loc[df.loc[:, 'colname'] = 'val']`\n",
    "    - `df.loc[df['colname1'] == 'val', 'colname2']`\n",
    "- [**Замена значений**](#replace_values_01)\n",
    "    - `df.loc[:, 'colname'] = 'val'`\n",
    "    - `df.loc[df['colname1'] == 'val', 'colname2_for_new_val'] = 'newval'`\n",
    "    - `df.loc[df['colname1'] == 'val', 'colname2'] += val`\n",
    "    - `rows = (df['colname1'] == 'val1') & (df['colname2'] == 'val2')`\n",
    "    - `df.loc[rows, \"colname_for_new_val\"] = \"newval\"`\n",
    "    - `df.loc[index, 'colname'] = val`\n",
    "\n",
    "- **Подсчет нескольких агрегатных функций на столбец**\n",
    "    - `df.groupby('colname1').agg({'colname2': ['count', 'sum'], 'colname3': ['min', 'max']})`\n",
    "- **Подсчет разныз параметров числовых столбцов**\n",
    "    - `df['colname'].sum()`\n",
    "    - `df['colname'].min()`\n",
    "    - `df['colname'].max()`\n",
    "    - `df['colname'].mean()`\n",
    "    - `df['colname'].median()`\n",
    "    - `df['colname'].count()`\n",
    "- **Генерация новых столбцов**\n",
    "    - `df['newcolname'] = df['colname1'] + df['colname2']`"
   ]
  },
  {
   "cell_type": "markdown",
   "id": "cb1def1c",
   "metadata": {},
   "source": [
    "<div class=\"alert alert-success\">\n",
    "    <h1>Поток кода</h1>\n",
    "</div>"
   ]
  },
  {
   "cell_type": "markdown",
   "id": "c99df7e2",
   "metadata": {},
   "source": [
    "<a id='rename_01'></a>\n",
    "### Стиль заголовков\n",
    "- привести к нижнему регистру\n",
    "- убрать пробелы\n",
    "- использоват snake_case"
   ]
  },
  {
   "cell_type": "code",
   "execution_count": null,
   "id": "84951ab5",
   "metadata": {},
   "outputs": [],
   "source": [
    "df.rename(columns={'  userID': 'user_id', 'Track': 'track', '  City  ': 'city', 'Day': 'day'}, inplace=True)\n",
    "df.columns = df.columns.str.strip().str.lower().str.replace('userid', 'user_id')"
   ]
  },
  {
   "cell_type": "markdown",
   "id": "effb0f52",
   "metadata": {},
   "source": [
    "<a id='replace_values_01'></a>\n",
    "### Замена значений"
   ]
  },
  {
   "cell_type": "code",
   "execution_count": null,
   "id": "7542c6fd",
   "metadata": {},
   "outputs": [],
   "source": [
    "# Напишем функцию, которая заменяет значения в зависимости от условия\n",
    "\n",
    "def abnormal_replace(cell):\n",
    "    if cell > 300000:\n",
    "        cell /= 24 \n",
    "    return cell\n",
    "\n",
    "# Применим функцию к нужному столбцу\n",
    "df['days_employed'] = df['days_employed'].apply(abnormal_replace)"
   ]
  },
  {
   "cell_type": "code",
   "execution_count": null,
   "id": "714688cf",
   "metadata": {},
   "outputs": [],
   "source": [
    "def dob_years_repair(row):\n",
    "    if row['dob_years'] == 0:\n",
    "        return int(row['days_employed'] / 365 + 19 )\n",
    "    else:\n",
    "        return row['dob_years']\n",
    "\n",
    "df['dob_years'] = df.apply(dob_years_repair, axis=1)"
   ]
  },
  {
   "cell_type": "code",
   "execution_count": null,
   "id": "910b7b13",
   "metadata": {},
   "outputs": [],
   "source": []
  },
  {
   "cell_type": "code",
   "execution_count": null,
   "id": "4d77e257",
   "metadata": {},
   "outputs": [],
   "source": []
  },
  {
   "cell_type": "markdown",
   "id": "1bd8e825",
   "metadata": {},
   "source": [
    "<a id='replace_duplicates_01'></a>\n",
    "### Замена неявных дубликатов"
   ]
  },
  {
   "cell_type": "code",
   "execution_count": null,
   "id": "a259f382",
   "metadata": {},
   "outputs": [],
   "source": [
    "def replace_wrong_genres(wrong_genres, correct_genre):\n",
    "    for wrong_genre in wrong_genres:\n",
    "        df['genre'] = df['genre'].replace(wrong_genre, correct_genre)"
   ]
  },
  {
   "cell_type": "code",
   "execution_count": null,
   "id": "344e9ef3",
   "metadata": {},
   "outputs": [],
   "source": [
    "def replace_wrong_genres_upgrade(genres_duplicates): # принимаем на вход словарь с данными о дубликатах\n",
    "    for item in genres_duplicates.items(): # обходим каждый элемент словаря, распаковывая их в кортеж\n",
    "        for val in item[1]: # в кортеже создаем цикл на обход списка (по сути это значение ключа словаря со списком дубликатов)\n",
    "            df['genre'] = df['genre'].replace(val, item[0]) # заменяем каждый дубликат на верное значение (ключ словаря)"
   ]
  },
  {
   "cell_type": "markdown",
   "id": "c22ecb96",
   "metadata": {},
   "source": [
    "<a id='categorise_01'></a>\n",
    "### Категоризация данных"
   ]
  },
  {
   "cell_type": "code",
   "execution_count": null,
   "id": "92c8e4fc",
   "metadata": {},
   "outputs": [],
   "source": [
    "def alert_group(messages):\n",
    "    if messages <= 300:\n",
    "        return 'средний'\n",
    "    elif messages >= 301 and messages <= 500:\n",
    "        return 'высокий'\n",
    "    else:\n",
    "        return 'критичный'\n",
    "\n",
    "df['alert_group'] = df['user_id'].apply(alert_group)"
   ]
  },
  {
   "cell_type": "code",
   "execution_count": null,
   "id": "6115ba89",
   "metadata": {},
   "outputs": [],
   "source": [
    "def alert_group_importance(row):\n",
    "    if row['alert_group'] == 'средний' and row['importance'] == 1:\n",
    "        return 'обратить внимание'\n",
    "    elif row['alert_group'] == 'высокий' and row['importance'] == 1:\n",
    "        return 'высокий риск'\n",
    "    elif row['alert_group'] == 'критичный' and row['importance'] == 1:\n",
    "        return 'блокер'\n",
    "    else:\n",
    "        return 'в порядке очереди'\n",
    "\n",
    "df['importance_status'] = df.apply(alert_group_importance, axis=1)"
   ]
  },
  {
   "cell_type": "code",
   "execution_count": null,
   "id": "d808e48f",
   "metadata": {},
   "outputs": [],
   "source": [
    "def is_part_in_list(str_, words):\n",
    "    for word in words:\n",
    "        if word.lower() in str_.lower():\n",
    "            return True\n",
    "    return False"
   ]
  }
 ],
 "metadata": {
  "kernelspec": {
   "display_name": "Python 3 (ipykernel)",
   "language": "python",
   "name": "python3"
  },
  "language_info": {
   "codemirror_mode": {
    "name": "ipython",
    "version": 3
   },
   "file_extension": ".py",
   "mimetype": "text/x-python",
   "name": "python",
   "nbconvert_exporter": "python",
   "pygments_lexer": "ipython3",
   "version": "3.9.12"
  }
 },
 "nbformat": 4,
 "nbformat_minor": 5
}
